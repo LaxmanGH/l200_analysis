{
 "cells": [
  {
   "cell_type": "code",
   "execution_count": 1,
   "id": "21f161ce-3ac4-487c-9214-baea757473be",
   "metadata": {},
   "outputs": [],
   "source": [
    "import numpy as np\n",
    "import os, json\n",
    "import pandas as pd\n",
    "import matplotlib.pyplot as plt\n",
    "import matplotlib.colors as mcolors\n",
    "myColor = list(mcolors.CSS4_COLORS)\n",
    "\n",
    "from pygama.dsp.errors import DSPFatal\n",
    "import pygama.lgdo.lh5_store as lh5\n"
   ]
  },
  {
   "cell_type": "code",
   "execution_count": 2,
   "id": "f055aeb0-90de-41bc-b748-0bac1e49488d",
   "metadata": {},
   "outputs": [],
   "source": [
    "# DIRECTORY FOR PHYSICS DATA:\n",
    "raw_dir='/data1/shared/l60/l60-prodven-v1/prod-ref/v06.00/generated/tier/raw/phy/p01/r027/'\n",
    "dsp_dir='/data1/shared/l60/l60-prodven-v1/prod-ref/v06.00/generated/tier/dsp/phy/p01/r027/'\n",
    "hit_dir='/data1/shared/l60/l60-prodven-v1/prod-ref/v06.00/generated/tier/hit/phy/p01/r027/'\n",
    "tcm_dir='/data1/shared/l60/l60-prodven-v1/prod-ref/v06.00/generated/tier/tcm/phy/p01/r027/'\n",
    "# DIRECTORY FOR CALIBRATION DATA:\n",
    "# raw_dir = '/data1/shared/l60/l60-prodven-v1/prod-ref/v06.00/generated/tier/raw/cal/p01/r027/'\n",
    "# dsp_dir = '/data1/shared/l60/l60-prodven-v1/prod-ref/v06.00/generated/tier/dsp/cal/p01/r027/'\n",
    "# hit_dir = '/data1/shared/l60/l60-prodven-v1/prod-ref/v06.00/generated/tier/hit/cal/p01/r027/'\n",
    "#tcm_dir = '/data1/shared/l60/l60-prodven-v1/prod-ref/v06.00/generated/tier/tcm/cal/p01/r027/'\n",
    "# # SAMPLE DATA FILES\n",
    "# raw_file = raw_dir+\"l60-p01-r027-cal-20220923T165106Z-tier_raw.lh5\" \n",
    "# dsp_file = raw_dir+\"l60-p01-r026-phy-20220923T095129Z-tier_raw.lh5\"\n",
    "# hit_file = raw_dir+\"l60-p01-r026-phy-20220923T095129Z-tier_raw.lh5\"\n",
    "# tcm_file = raw_dir+\"l60-p01-r026-phy-20220923T095129Z-tier_raw.lh5"
   ]
  },
  {
   "cell_type": "code",
   "execution_count": 3,
   "id": "38d61e8e-669d-4236-a4dd-d03621b71971",
   "metadata": {},
   "outputs": [
    {
     "name": "stdout",
     "output_type": "stream",
     "text": [
      "28\n"
     ]
    }
   ],
   "source": [
    "#List of all available channels, where ch000=pulse, ch001=muon, ch003=Ge, ...\n",
    "channel= ['ch000', 'ch001', \n",
    "          'ch002', 'ch003', 'ch004', 'ch005', 'ch006', 'ch007', 'ch008', 'ch009', 'ch010', \n",
    "          'ch011', 'ch012', 'ch013', 'ch014', 'ch015', 'ch016', 'ch017', 'ch018', 'ch019', 'ch020', 'ch021', \n",
    "          'ch022', 'ch023', 'ch024', 'ch025', 'ch026', 'ch027', 'ch028', 'ch029', 'ch030', 'ch031', 'ch032', \n",
    "          'ch033', 'ch034', 'ch035', 'ch036', 'ch037', 'ch038', 'ch039', 'ch040', 'ch041', 'ch042', 'ch043', \n",
    "          'ch044', 'ch045', 'ch046', 'ch047', 'ch048', 'ch049', 'ch050', 'ch051', 'ch052', 'ch053', 'ch054', \n",
    "          'ch055', 'ch056', 'ch057', 'ch058', 'ch059', 'ch060', 'ch061', 'ch062', 'ch063', 'ch064', 'ch065', \n",
    "          'ch066', 'ch067', 'ch068', 'ch069', 'ch070', 'ch071', 'ch072', 'ch073', 'ch074', 'ch075', 'ch076', \n",
    "          'ch077', 'ch078', 'ch079', 'ch080', 'ch081', 'ch082', 'ch083', 'ch084', 'ch085', 'ch086', 'ch087', \n",
    "          'ch088', 'ch089', 'ch090', 'ch091', 'ch092', 'ch093', 'ch094', 'ch095', 'ch096', 'ch097', 'ch098', \n",
    "          'ch099', 'ch100', 'ch101', 'ch102', 'ch103', 'ch104', 'ch105', 'ch106', 'ch107', 'ch108', 'ch109']\n",
    "string1= [\"ch023\",\"ch024\",\"ch025\",\"ch026\",\"ch027\",\"ch028\",\"ch029\",\"ch016\"]\n",
    "string2= [\"ch009\",\"ch010\",\"ch011\",\"ch012\",\"ch013\",\"ch014\",\"ch015\"]\n",
    "string7= [\"ch037\",\"ch038\",\"ch039\",\"ch040\",\"ch041\",\"ch042\",\"ch007\",\"ch043\"]\n",
    "string8= [\"ch002\",\"ch003\",\"ch008\",\"ch005\",\"ch006\"]\n",
    "\n",
    "list_of_Ge_channels= [\"ch023\",\"ch024\",\"ch025\",\"ch026\",\"ch027\",\"ch028\",\"ch029\",\"ch016\",\n",
    "                      \"ch009\",\"ch010\",\"ch011\",\"ch012\",\"ch013\",\"ch014\",\"ch015\",\n",
    "                      \"ch037\",\"ch038\",\"ch039\",\"ch040\",\"ch041\",\"ch042\",\"ch007\",\"ch043\",\n",
    "                      \"ch002\",\"ch003\",\"ch008\",\"ch005\",\"ch006\"]\n",
    "print(len(list_of_Ge_channels))"
   ]
  },
  {
   "cell_type": "code",
   "execution_count": 4,
   "id": "2f7ce2f3-6c96-49c0-972e-37f0b0c6c2a0",
   "metadata": {},
   "outputs": [],
   "source": [
    "# get the raw files\n",
    "raw_files=os.listdir(raw_dir) # list of all phy lh5 files\n",
    "raw_files.sort() # sort them according to time\n",
    "for i,file in enumerate(raw_files): \n",
    "    raw_files[i] =os.path.join(raw_dir,file) # get the full path\n",
    "    #get the dsp files\n",
    "dsp_files=os.listdir(dsp_dir) # list of all phy lh5 files\n",
    "dsp_files.sort() # sort them according to time\n",
    "for i,file in enumerate(dsp_files): \n",
    "    dsp_files[i] =os.path.join(dsp_dir,file) # get the full path\n",
    "\n",
    "    #get the hit files\n",
    "hit_files=os.listdir(hit_dir) # list of all phy lh5 files\n",
    "hit_files.sort() # sort them according to time\n",
    "for i,file in enumerate(hit_files): \n",
    "    hit_files[i] =os.path.join(hit_dir,file) # get the full path\n",
    "\n",
    "    #get the tcm files\n",
    "tcm_files=os.listdir(tcm_dir) # list of all phy lh5 files\n",
    "tcm_files.sort() \n",
    "# sort them according to time\n",
    "for i,file in enumerate(tcm_files): \n",
    "    tcm_files[i] =os.path.join(tcm_dir,file) # get the full path\n",
    "\n",
    "# print(len(raw_files), len(dsp_files), len(hit_files), len(tcm_files))"
   ]
  },
  {
   "cell_type": "code",
   "execution_count": 16,
   "id": "a0d7f664-7025-4747-b3a2-78b572a0a572",
   "metadata": {},
   "outputs": [],
   "source": [
    "raw_channels = lh5.ls(raw_files[0])"
   ]
  },
  {
   "cell_type": "code",
   "execution_count": 17,
   "id": "1197926f-656c-4721-a25d-bc115836eb19",
   "metadata": {},
   "outputs": [
    {
     "name": "stdout",
     "output_type": "stream",
     "text": [
      "['ch000', 'ch001', 'ch002', 'ch003', 'ch004', 'ch005', 'ch006', 'ch007', 'ch008', 'ch009', 'ch010', 'ch011', 'ch012', 'ch013', 'ch014', 'ch015', 'ch016', 'ch017', 'ch018', 'ch019', 'ch020', 'ch021', 'ch022', 'ch023', 'ch024', 'ch025', 'ch026', 'ch027', 'ch028', 'ch029', 'ch030', 'ch031', 'ch032', 'ch033', 'ch034', 'ch035', 'ch036', 'ch037', 'ch038', 'ch039', 'ch040', 'ch041', 'ch042', 'ch043', 'ch044', 'ch045', 'ch046', 'ch047', 'ch048', 'ch049', 'ch050', 'ch051', 'ch052', 'ch053', 'ch054', 'ch055', 'ch056', 'ch057', 'ch058', 'ch059', 'ch060', 'ch061', 'ch062', 'ch063', 'ch064', 'ch065', 'ch066', 'ch067', 'ch068', 'ch069', 'ch070', 'ch071', 'ch072', 'ch073', 'ch074', 'ch075', 'ch076', 'ch077', 'ch078', 'ch079', 'ch080', 'ch081', 'ch082', 'ch083', 'ch084', 'ch085', 'ch086', 'ch087', 'ch088', 'ch089', 'ch090', 'ch091', 'ch092', 'ch093', 'ch094', 'ch095', 'ch096', 'ch097', 'ch098', 'ch099', 'ch100', 'ch101', 'ch102', 'ch103', 'ch104', 'ch105', 'ch106', 'ch107', 'ch108', 'ch109']\n"
     ]
    }
   ],
   "source": [
    "print(raw_channels)"
   ]
  },
  {
   "cell_type": "code",
   "execution_count": 7,
   "id": "1a1b833e-da64-4439-be63-18378c02ee48",
   "metadata": {},
   "outputs": [
    {
     "data": {
      "text/plain": [
       "['ch016/raw/baseline',\n",
       " 'ch016/raw/card',\n",
       " 'ch016/raw/ch_orca',\n",
       " 'ch016/raw/channel',\n",
       " 'ch016/raw/crate',\n",
       " 'ch016/raw/daqenergy',\n",
       " 'ch016/raw/deadtime',\n",
       " 'ch016/raw/dr_maxticks',\n",
       " 'ch016/raw/dr_start_pps',\n",
       " 'ch016/raw/dr_start_ticks',\n",
       " 'ch016/raw/dr_stop_pps',\n",
       " 'ch016/raw/dr_stop_ticks',\n",
       " 'ch016/raw/eventnumber',\n",
       " 'ch016/raw/fcid',\n",
       " 'ch016/raw/numtraces',\n",
       " 'ch016/raw/packet_id',\n",
       " 'ch016/raw/runtime',\n",
       " 'ch016/raw/timestamp',\n",
       " 'ch016/raw/to_abs_mu_usec',\n",
       " 'ch016/raw/to_dt_mu_usec',\n",
       " 'ch016/raw/to_master_sec',\n",
       " 'ch016/raw/to_mu_sec',\n",
       " 'ch016/raw/to_mu_usec',\n",
       " 'ch016/raw/to_start_sec',\n",
       " 'ch016/raw/to_start_usec',\n",
       " 'ch016/raw/tracelist',\n",
       " 'ch016/raw/ts_maxticks',\n",
       " 'ch016/raw/ts_pps',\n",
       " 'ch016/raw/ts_ticks',\n",
       " 'ch016/raw/waveform']"
      ]
     },
     "execution_count": 7,
     "metadata": {},
     "output_type": "execute_result"
    }
   ],
   "source": [
    "lh5.ls(raw_files[0],'ch016/raw/')"
   ]
  },
  {
   "cell_type": "code",
   "execution_count": 52,
   "id": "e6612c7a-8b51-4a16-b1d9-a814ee13407b",
   "metadata": {},
   "outputs": [
    {
     "name": "stdout",
     "output_type": "stream",
     "text": [
      "In RAW: \n",
      " \n",
      "\u001b[1mch000\u001b[0m\n",
      "└── \u001b[1mraw\u001b[0m · table{packet_id,eventnumber,timestamp,runtime,numtraces,tracelist,baseline,daqenergy,channel,ts_pps,ts_ticks,ts_maxticks,to_mu_sec,to_mu_usec,to_master_sec,to_dt_mu_usec,to_abs_mu_usec,to_start_sec,to_start_usec,dr_start_pps,dr_start_ticks,dr_stop_pps,dr_stop_ticks,dr_maxticks,deadtime,waveform,crate,card,ch_orca,fcid}\n",
      "    ├── \u001b[1mbaseline\u001b[0m · array<1>{real}\n",
      "    ├── \u001b[1mcard\u001b[0m · array<1>{real}\n",
      "    ├── \u001b[1mch_orca\u001b[0m · array<1>{real}\n",
      "    ├── \u001b[1mchannel\u001b[0m · array<1>{real}\n",
      "    ├── \u001b[1mcrate\u001b[0m · array<1>{real}\n",
      "    ├── \u001b[1mdaqenergy\u001b[0m · array<1>{real}\n",
      "    ├── \u001b[1mdeadtime\u001b[0m · array<1>{real}\n",
      "    ├── \u001b[1mdr_maxticks\u001b[0m · array<1>{real}\n",
      "    ├── \u001b[1mdr_start_pps\u001b[0m · array<1>{real}\n",
      "    ├── \u001b[1mdr_start_ticks\u001b[0m · array<1>{real}\n",
      "    ├── \u001b[1mdr_stop_pps\u001b[0m · array<1>{real}\n",
      "    ├── \u001b[1mdr_stop_ticks\u001b[0m · array<1>{real}\n",
      "    ├── \u001b[1meventnumber\u001b[0m · array<1>{real}\n",
      "    ├── \u001b[1mfcid\u001b[0m · array<1>{real}\n",
      "    ├── \u001b[1mnumtraces\u001b[0m · array<1>{real}\n",
      "    ├── \u001b[1mpacket_id\u001b[0m · array<1>{real}\n",
      "    ├── \u001b[1mruntime\u001b[0m · array<1>{real}\n",
      "    ├── \u001b[1mtimestamp\u001b[0m · array<1>{real}\n",
      "    ├── \u001b[1mto_abs_mu_usec\u001b[0m · array<1>{real}\n",
      "    ├── \u001b[1mto_dt_mu_usec\u001b[0m · array<1>{real}\n",
      "    ├── \u001b[1mto_master_sec\u001b[0m · array<1>{real}\n",
      "    ├── \u001b[1mto_mu_sec\u001b[0m · array<1>{real}\n",
      "    ├── \u001b[1mto_mu_usec\u001b[0m · array<1>{real}\n",
      "    ├── \u001b[1mto_start_sec\u001b[0m · array<1>{real}\n",
      "    ├── \u001b[1mto_start_usec\u001b[0m · array<1>{real}\n",
      "    ├── \u001b[1mtracelist\u001b[0m · array<1>{array<1>{real}}\n",
      "    │   ├── \u001b[1mcumulative_length\u001b[0m · array<1>{real}\n",
      "    │   └── \u001b[1mflattened_data\u001b[0m · array<1>{real}\n",
      "    ├── \u001b[1mts_maxticks\u001b[0m · array<1>{real}\n",
      "    ├── \u001b[1mts_pps\u001b[0m · array<1>{real}\n",
      "    ├── \u001b[1mts_ticks\u001b[0m · array<1>{real}\n",
      "    └── \u001b[1mwaveform\u001b[0m · table{t0,dt,values}\n",
      "        ├── \u001b[1mdt\u001b[0m · array<1>{real}\n",
      "        ├── \u001b[1mt0\u001b[0m · array<1>{real}\n",
      "        └── \u001b[1mvalues\u001b[0m · array_of_equalsized_arrays<1,1>{real}\n",
      "In HIT: \n",
      " \n",
      "\u001b[1m/\u001b[0m\n",
      "├── \u001b[1mch002\u001b[0m · HDF5 group\n",
      "│   └── \u001b[1mhit\u001b[0m · table{Quality_cuts,cuspEmax_ctc_cal,zacEmax_ctc_cal,trapEmax_ctc_cal,trapTmax_cal,AoE_Corrected,AoE_Classifier,AoE_Low_Cut,AoE_Double_Sided_Cut}\n",
      "│       ├── \u001b[1mAoE_Classifier\u001b[0m · array<1>{real}\n",
      "│       ├── \u001b[1mAoE_Corrected\u001b[0m · array<1>{real}\n",
      "│       ├── \u001b[1mAoE_Double_Sided_Cut\u001b[0m · array<1>{bool}\n",
      "│       ├── \u001b[1mAoE_Low_Cut\u001b[0m · array<1>{bool}\n",
      "│       ├── \u001b[1mQuality_cuts\u001b[0m · array<1>{bool}\n",
      "│       ├── \u001b[1mcuspEmax_ctc_cal\u001b[0m · array<1>{real}\n",
      "│       ├── \u001b[1mtrapEmax_ctc_cal\u001b[0m · array<1>{real}\n",
      "│       ├── \u001b[1mtrapTmax_cal\u001b[0m · array<1>{real}\n",
      "│       └── \u001b[1mzacEmax_ctc_cal\u001b[0m · array<1>{real}\n",
      "├── \u001b[1mch003\u001b[0m · HDF5 group\n",
      "│   └── \u001b[1mhit\u001b[0m · table{Quality_cuts,cuspEmax_ctc_cal,zacEmax_ctc_cal,trapEmax_ctc_cal,trapTmax_cal,AoE_Corrected,AoE_Classifier,AoE_Low_Cut,AoE_Double_Sided_Cut}\n",
      "│       ├── \u001b[1mAoE_Classifier\u001b[0m · array<1>{real}\n",
      "│       ├── \u001b[1mAoE_Corrected\u001b[0m · array<1>{real}\n",
      "│       ├── \u001b[1mAoE_Double_Sided_Cut\u001b[0m · array<1>{bool}\n",
      "│       ├── \u001b[1mAoE_Low_Cut\u001b[0m · array<1>{bool}\n",
      "│       ├── \u001b[1mQuality_cuts\u001b[0m · array<1>{bool}\n",
      "│       ├── \u001b[1mcuspEmax_ctc_cal\u001b[0m · array<1>{real}\n",
      "│       ├── \u001b[1mtrapEmax_ctc_cal\u001b[0m · array<1>{real}\n",
      "│       ├── \u001b[1mtrapTmax_cal\u001b[0m · array<1>{real}\n",
      "│       └── \u001b[1mzacEmax_ctc_cal\u001b[0m · array<1>{real}\n",
      "├── \u001b[1mch005\u001b[0m · HDF5 group\n",
      "│   └── \u001b[1mhit\u001b[0m · table{Quality_cuts,cuspEmax_ctc_cal,zacEmax_ctc_cal,trapEmax_ctc_cal,trapTmax_cal,AoE_Corrected,AoE_Classifier,AoE_Low_Cut,AoE_Double_Sided_Cut}\n",
      "│       ├── \u001b[1mAoE_Classifier\u001b[0m · array<1>{real}\n",
      "│       ├── \u001b[1mAoE_Corrected\u001b[0m · array<1>{real}\n",
      "│       ├── \u001b[1mAoE_Double_Sided_Cut\u001b[0m · array<1>{bool}\n",
      "│       ├── \u001b[1mAoE_Low_Cut\u001b[0m · array<1>{bool}\n",
      "│       ├── \u001b[1mQuality_cuts\u001b[0m · array<1>{bool}\n",
      "│       ├── \u001b[1mcuspEmax_ctc_cal\u001b[0m · array<1>{real}\n",
      "│       ├── \u001b[1mtrapEmax_ctc_cal\u001b[0m · array<1>{real}\n",
      "│       ├── \u001b[1mtrapTmax_cal\u001b[0m · array<1>{real}\n",
      "│       └── \u001b[1mzacEmax_ctc_cal\u001b[0m · array<1>{real}\n",
      "├── \u001b[1mch006\u001b[0m · HDF5 group\n",
      "│   └── \u001b[1mhit\u001b[0m · table{Quality_cuts,cuspEmax_ctc_cal,zacEmax_ctc_cal,trapEmax_ctc_cal,trapTmax_cal,AoE_Corrected,AoE_Classifier,AoE_Low_Cut,AoE_Double_Sided_Cut}\n",
      "│       ├── \u001b[1mAoE_Classifier\u001b[0m · array<1>{real}\n",
      "│       ├── \u001b[1mAoE_Corrected\u001b[0m · array<1>{real}\n",
      "│       ├── \u001b[1mAoE_Double_Sided_Cut\u001b[0m · array<1>{bool}\n",
      "│       ├── \u001b[1mAoE_Low_Cut\u001b[0m · array<1>{bool}\n",
      "│       ├── \u001b[1mQuality_cuts\u001b[0m · array<1>{bool}\n",
      "│       ├── \u001b[1mcuspEmax_ctc_cal\u001b[0m · array<1>{real}\n",
      "│       ├── \u001b[1mtrapEmax_ctc_cal\u001b[0m · array<1>{real}\n",
      "│       ├── \u001b[1mtrapTmax_cal\u001b[0m · array<1>{real}\n",
      "│       └── \u001b[1mzacEmax_ctc_cal\u001b[0m · array<1>{real}\n",
      "├── \u001b[1mch007\u001b[0m · HDF5 group\n",
      "│   └── \u001b[1mhit\u001b[0m · table{Quality_cuts,cuspEmax_ctc_cal,zacEmax_ctc_cal,trapEmax_ctc_cal,trapTmax_cal,AoE_Corrected,AoE_Classifier,AoE_Low_Cut,AoE_Double_Sided_Cut}\n",
      "│       ├── \u001b[1mAoE_Classifier\u001b[0m · array<1>{real}\n",
      "│       ├── \u001b[1mAoE_Corrected\u001b[0m · array<1>{real}\n",
      "│       ├── \u001b[1mAoE_Double_Sided_Cut\u001b[0m · array<1>{bool}\n",
      "│       ├── \u001b[1mAoE_Low_Cut\u001b[0m · array<1>{bool}\n",
      "│       ├── \u001b[1mQuality_cuts\u001b[0m · array<1>{bool}\n",
      "│       ├── \u001b[1mcuspEmax_ctc_cal\u001b[0m · array<1>{real}\n",
      "│       ├── \u001b[1mtrapEmax_ctc_cal\u001b[0m · array<1>{real}\n",
      "│       ├── \u001b[1mtrapTmax_cal\u001b[0m · array<1>{real}\n",
      "│       └── \u001b[1mzacEmax_ctc_cal\u001b[0m · array<1>{real}\n",
      "├── \u001b[1mch008\u001b[0m · HDF5 group\n",
      "│   └── \u001b[1mhit\u001b[0m · table{Quality_cuts,cuspEmax_ctc_cal,zacEmax_ctc_cal,trapEmax_ctc_cal,trapTmax_cal,AoE_Corrected,AoE_Classifier,AoE_Low_Cut,AoE_Double_Sided_Cut}\n",
      "│       ├── \u001b[1mAoE_Classifier\u001b[0m · array<1>{real}\n",
      "│       ├── \u001b[1mAoE_Corrected\u001b[0m · array<1>{real}\n",
      "│       ├── \u001b[1mAoE_Double_Sided_Cut\u001b[0m · array<1>{bool}\n",
      "│       ├── \u001b[1mAoE_Low_Cut\u001b[0m · array<1>{bool}\n",
      "│       ├── \u001b[1mQuality_cuts\u001b[0m · array<1>{bool}\n",
      "│       ├── \u001b[1mcuspEmax_ctc_cal\u001b[0m · array<1>{real}\n",
      "│       ├── \u001b[1mtrapEmax_ctc_cal\u001b[0m · array<1>{real}\n",
      "│       ├── \u001b[1mtrapTmax_cal\u001b[0m · array<1>{real}\n",
      "│       └── \u001b[1mzacEmax_ctc_cal\u001b[0m · array<1>{real}\n",
      "├── \u001b[1mch009\u001b[0m · HDF5 group\n",
      "│   └── \u001b[1mhit\u001b[0m · table{Quality_cuts,cuspEmax_ctc_cal,zacEmax_ctc_cal,trapEmax_ctc_cal,trapTmax_cal,AoE_Corrected,AoE_Classifier,AoE_Low_Cut,AoE_Double_Sided_Cut}\n",
      "│       ├── \u001b[1mAoE_Classifier\u001b[0m · array<1>{real}\n",
      "│       ├── \u001b[1mAoE_Corrected\u001b[0m · array<1>{real}\n",
      "│       ├── \u001b[1mAoE_Double_Sided_Cut\u001b[0m · array<1>{bool}\n",
      "│       ├── \u001b[1mAoE_Low_Cut\u001b[0m · array<1>{bool}\n",
      "│       ├── \u001b[1mQuality_cuts\u001b[0m · array<1>{bool}\n",
      "│       ├── \u001b[1mcuspEmax_ctc_cal\u001b[0m · array<1>{real}\n",
      "│       ├── \u001b[1mtrapEmax_ctc_cal\u001b[0m · array<1>{real}\n",
      "│       ├── \u001b[1mtrapTmax_cal\u001b[0m · array<1>{real}\n",
      "│       └── \u001b[1mzacEmax_ctc_cal\u001b[0m · array<1>{real}\n",
      "├── \u001b[1mch011\u001b[0m · HDF5 group\n",
      "│   └── \u001b[1mhit\u001b[0m · table{Quality_cuts,cuspEmax_ctc_cal,zacEmax_ctc_cal,trapEmax_ctc_cal,trapTmax_cal,AoE_Corrected,AoE_Classifier,AoE_Low_Cut,AoE_Double_Sided_Cut}\n",
      "│       ├── \u001b[1mAoE_Classifier\u001b[0m · array<1>{real}\n",
      "│       ├── \u001b[1mAoE_Corrected\u001b[0m · array<1>{real}\n",
      "│       ├── \u001b[1mAoE_Double_Sided_Cut\u001b[0m · array<1>{bool}\n",
      "│       ├── \u001b[1mAoE_Low_Cut\u001b[0m · array<1>{bool}\n",
      "│       ├── \u001b[1mQuality_cuts\u001b[0m · array<1>{bool}\n",
      "│       ├── \u001b[1mcuspEmax_ctc_cal\u001b[0m · array<1>{real}\n",
      "│       ├── \u001b[1mtrapEmax_ctc_cal\u001b[0m · array<1>{real}\n",
      "│       ├── \u001b[1mtrapTmax_cal\u001b[0m · array<1>{real}\n",
      "│       └── \u001b[1mzacEmax_ctc_cal\u001b[0m · array<1>{real}\n",
      "├── \u001b[1mch012\u001b[0m · HDF5 group\n",
      "│   └── \u001b[1mhit\u001b[0m · table{Quality_cuts,cuspEmax_ctc_cal,zacEmax_ctc_cal,trapEmax_ctc_cal,trapTmax_cal,AoE_Corrected,AoE_Classifier,AoE_Low_Cut,AoE_Double_Sided_Cut}\n",
      "│       ├── \u001b[1mAoE_Classifier\u001b[0m · array<1>{real}\n",
      "│       ├── \u001b[1mAoE_Corrected\u001b[0m · array<1>{real}\n",
      "│       ├── \u001b[1mAoE_Double_Sided_Cut\u001b[0m · array<1>{bool}\n",
      "│       ├── \u001b[1mAoE_Low_Cut\u001b[0m · array<1>{bool}\n",
      "│       ├── \u001b[1mQuality_cuts\u001b[0m · array<1>{bool}\n",
      "│       ├── \u001b[1mcuspEmax_ctc_cal\u001b[0m · array<1>{real}\n",
      "│       ├── \u001b[1mtrapEmax_ctc_cal\u001b[0m · array<1>{real}\n",
      "│       ├── \u001b[1mtrapTmax_cal\u001b[0m · array<1>{real}\n",
      "│       └── \u001b[1mzacEmax_ctc_cal\u001b[0m · array<1>{real}\n",
      "├── \u001b[1mch013\u001b[0m · HDF5 group\n",
      "│   └── \u001b[1mhit\u001b[0m · table{Quality_cuts,cuspEmax_ctc_cal,zacEmax_ctc_cal,trapEmax_ctc_cal,trapTmax_cal,AoE_Corrected,AoE_Classifier,AoE_Low_Cut,AoE_Double_Sided_Cut}\n",
      "│       ├── \u001b[1mAoE_Classifier\u001b[0m · array<1>{real}\n",
      "│       ├── \u001b[1mAoE_Corrected\u001b[0m · array<1>{real}\n",
      "│       ├── \u001b[1mAoE_Double_Sided_Cut\u001b[0m · array<1>{bool}\n",
      "│       ├── \u001b[1mAoE_Low_Cut\u001b[0m · array<1>{bool}\n",
      "│       ├── \u001b[1mQuality_cuts\u001b[0m · array<1>{bool}\n",
      "│       ├── \u001b[1mcuspEmax_ctc_cal\u001b[0m · array<1>{real}\n",
      "│       ├── \u001b[1mtrapEmax_ctc_cal\u001b[0m · array<1>{real}\n",
      "│       ├── \u001b[1mtrapTmax_cal\u001b[0m · array<1>{real}\n",
      "│       └── \u001b[1mzacEmax_ctc_cal\u001b[0m · array<1>{real}\n",
      "├── \u001b[1mch014\u001b[0m · HDF5 group\n",
      "│   └── \u001b[1mhit\u001b[0m · table{Quality_cuts,cuspEmax_ctc_cal,zacEmax_ctc_cal,trapEmax_ctc_cal,trapTmax_cal,AoE_Corrected,AoE_Classifier,AoE_Low_Cut,AoE_Double_Sided_Cut}\n",
      "│       ├── \u001b[1mAoE_Classifier\u001b[0m · array<1>{real}\n",
      "│       ├── \u001b[1mAoE_Corrected\u001b[0m · array<1>{real}\n",
      "│       ├── \u001b[1mAoE_Double_Sided_Cut\u001b[0m · array<1>{bool}\n",
      "│       ├── \u001b[1mAoE_Low_Cut\u001b[0m · array<1>{bool}\n",
      "│       ├── \u001b[1mQuality_cuts\u001b[0m · array<1>{bool}\n",
      "│       ├── \u001b[1mcuspEmax_ctc_cal\u001b[0m · array<1>{real}\n",
      "│       ├── \u001b[1mtrapEmax_ctc_cal\u001b[0m · array<1>{real}\n",
      "│       ├── \u001b[1mtrapTmax_cal\u001b[0m · array<1>{real}\n",
      "│       └── \u001b[1mzacEmax_ctc_cal\u001b[0m · array<1>{real}\n",
      "├── \u001b[1mch015\u001b[0m · HDF5 group\n",
      "│   └── \u001b[1mhit\u001b[0m · table{Quality_cuts,cuspEmax_ctc_cal,zacEmax_ctc_cal,trapEmax_ctc_cal,trapTmax_cal,AoE_Corrected,AoE_Classifier,AoE_Low_Cut,AoE_Double_Sided_Cut}\n",
      "│       ├── \u001b[1mAoE_Classifier\u001b[0m · array<1>{real}\n",
      "│       ├── \u001b[1mAoE_Corrected\u001b[0m · array<1>{real}\n",
      "│       ├── \u001b[1mAoE_Double_Sided_Cut\u001b[0m · array<1>{bool}\n",
      "│       ├── \u001b[1mAoE_Low_Cut\u001b[0m · array<1>{bool}\n",
      "│       ├── \u001b[1mQuality_cuts\u001b[0m · array<1>{bool}\n",
      "│       ├── \u001b[1mcuspEmax_ctc_cal\u001b[0m · array<1>{real}\n",
      "│       ├── \u001b[1mtrapEmax_ctc_cal\u001b[0m · array<1>{real}\n",
      "│       ├── \u001b[1mtrapTmax_cal\u001b[0m · array<1>{real}\n",
      "│       └── \u001b[1mzacEmax_ctc_cal\u001b[0m · array<1>{real}\n",
      "├── \u001b[1mch016\u001b[0m · HDF5 group\n",
      "│   └── \u001b[1mhit\u001b[0m · table{Quality_cuts,cuspEmax_ctc_cal,zacEmax_ctc_cal,trapEmax_ctc_cal,trapTmax_cal,AoE_Corrected,AoE_Classifier,AoE_Low_Cut,AoE_Double_Sided_Cut}\n",
      "│       ├── \u001b[1mAoE_Classifier\u001b[0m · array<1>{real}\n",
      "│       ├── \u001b[1mAoE_Corrected\u001b[0m · array<1>{real}\n",
      "│       ├── \u001b[1mAoE_Double_Sided_Cut\u001b[0m · array<1>{bool}\n",
      "│       ├── \u001b[1mAoE_Low_Cut\u001b[0m · array<1>{bool}\n",
      "│       ├── \u001b[1mQuality_cuts\u001b[0m · array<1>{bool}\n",
      "│       ├── \u001b[1mcuspEmax_ctc_cal\u001b[0m · array<1>{real}\n",
      "│       ├── \u001b[1mtrapEmax_ctc_cal\u001b[0m · array<1>{real}\n",
      "│       ├── \u001b[1mtrapTmax_cal\u001b[0m · array<1>{real}\n",
      "│       └── \u001b[1mzacEmax_ctc_cal\u001b[0m · array<1>{real}\n",
      "├── \u001b[1mch023\u001b[0m · HDF5 group\n",
      "│   └── \u001b[1mhit\u001b[0m · table{Quality_cuts,cuspEmax_ctc_cal,zacEmax_ctc_cal,trapEmax_ctc_cal,trapTmax_cal,AoE_Corrected,AoE_Classifier,AoE_Low_Cut,AoE_Double_Sided_Cut}\n",
      "│       ├── \u001b[1mAoE_Classifier\u001b[0m · array<1>{real}\n",
      "│       ├── \u001b[1mAoE_Corrected\u001b[0m · array<1>{real}\n",
      "│       ├── \u001b[1mAoE_Double_Sided_Cut\u001b[0m · array<1>{bool}\n",
      "│       ├── \u001b[1mAoE_Low_Cut\u001b[0m · array<1>{bool}\n",
      "│       ├── \u001b[1mQuality_cuts\u001b[0m · array<1>{bool}\n",
      "│       ├── \u001b[1mcuspEmax_ctc_cal\u001b[0m · array<1>{real}\n",
      "│       ├── \u001b[1mtrapEmax_ctc_cal\u001b[0m · array<1>{real}\n",
      "│       ├── \u001b[1mtrapTmax_cal\u001b[0m · array<1>{real}\n",
      "│       └── \u001b[1mzacEmax_ctc_cal\u001b[0m · array<1>{real}\n",
      "├── \u001b[1mch025\u001b[0m · HDF5 group\n",
      "│   └── \u001b[1mhit\u001b[0m · table{Quality_cuts,cuspEmax_ctc_cal,zacEmax_ctc_cal,trapEmax_ctc_cal,trapTmax_cal,AoE_Corrected,AoE_Classifier,AoE_Low_Cut,AoE_Double_Sided_Cut}\n",
      "│       ├── \u001b[1mAoE_Classifier\u001b[0m · array<1>{real}\n",
      "│       ├── \u001b[1mAoE_Corrected\u001b[0m · array<1>{real}\n",
      "│       ├── \u001b[1mAoE_Double_Sided_Cut\u001b[0m · array<1>{bool}\n",
      "│       ├── \u001b[1mAoE_Low_Cut\u001b[0m · array<1>{bool}\n",
      "│       ├── \u001b[1mQuality_cuts\u001b[0m · array<1>{bool}\n",
      "│       ├── \u001b[1mcuspEmax_ctc_cal\u001b[0m · array<1>{real}\n",
      "│       ├── \u001b[1mtrapEmax_ctc_cal\u001b[0m · array<1>{real}\n",
      "│       ├── \u001b[1mtrapTmax_cal\u001b[0m · array<1>{real}\n",
      "│       └── \u001b[1mzacEmax_ctc_cal\u001b[0m · array<1>{real}\n",
      "├── \u001b[1mch026\u001b[0m · HDF5 group\n",
      "│   └── \u001b[1mhit\u001b[0m · table{Quality_cuts,cuspEmax_ctc_cal,zacEmax_ctc_cal,trapEmax_ctc_cal,trapTmax_cal,AoE_Corrected,AoE_Classifier,AoE_Low_Cut,AoE_Double_Sided_Cut}\n",
      "│       ├── \u001b[1mAoE_Classifier\u001b[0m · array<1>{real}\n",
      "│       ├── \u001b[1mAoE_Corrected\u001b[0m · array<1>{real}\n",
      "│       ├── \u001b[1mAoE_Double_Sided_Cut\u001b[0m · array<1>{bool}\n",
      "│       ├── \u001b[1mAoE_Low_Cut\u001b[0m · array<1>{bool}\n",
      "│       ├── \u001b[1mQuality_cuts\u001b[0m · array<1>{bool}\n",
      "│       ├── \u001b[1mcuspEmax_ctc_cal\u001b[0m · array<1>{real}\n",
      "│       ├── \u001b[1mtrapEmax_ctc_cal\u001b[0m · array<1>{real}\n",
      "│       ├── \u001b[1mtrapTmax_cal\u001b[0m · array<1>{real}\n",
      "│       └── \u001b[1mzacEmax_ctc_cal\u001b[0m · array<1>{real}\n",
      "├── \u001b[1mch027\u001b[0m · HDF5 group\n",
      "│   └── \u001b[1mhit\u001b[0m · table{Quality_cuts,cuspEmax_ctc_cal,zacEmax_ctc_cal,trapEmax_ctc_cal,trapTmax_cal,AoE_Corrected,AoE_Classifier,AoE_Low_Cut,AoE_Double_Sided_Cut}\n",
      "│       ├── \u001b[1mAoE_Classifier\u001b[0m · array<1>{real}\n",
      "│       ├── \u001b[1mAoE_Corrected\u001b[0m · array<1>{real}\n",
      "│       ├── \u001b[1mAoE_Double_Sided_Cut\u001b[0m · array<1>{bool}\n",
      "│       ├── \u001b[1mAoE_Low_Cut\u001b[0m · array<1>{bool}\n",
      "│       ├── \u001b[1mQuality_cuts\u001b[0m · array<1>{bool}\n",
      "│       ├── \u001b[1mcuspEmax_ctc_cal\u001b[0m · array<1>{real}\n",
      "│       ├── \u001b[1mtrapEmax_ctc_cal\u001b[0m · array<1>{real}\n",
      "│       ├── \u001b[1mtrapTmax_cal\u001b[0m · array<1>{real}\n",
      "│       └── \u001b[1mzacEmax_ctc_cal\u001b[0m · array<1>{real}\n",
      "├── \u001b[1mch028\u001b[0m · HDF5 group\n",
      "│   └── \u001b[1mhit\u001b[0m · table{Quality_cuts,cuspEmax_ctc_cal,zacEmax_ctc_cal,trapEmax_ctc_cal,trapTmax_cal,AoE_Corrected,AoE_Classifier,AoE_Low_Cut,AoE_Double_Sided_Cut}\n",
      "│       ├── \u001b[1mAoE_Classifier\u001b[0m · array<1>{real}\n",
      "│       ├── \u001b[1mAoE_Corrected\u001b[0m · array<1>{real}\n",
      "│       ├── \u001b[1mAoE_Double_Sided_Cut\u001b[0m · array<1>{bool}\n",
      "│       ├── \u001b[1mAoE_Low_Cut\u001b[0m · array<1>{bool}\n",
      "│       ├── \u001b[1mQuality_cuts\u001b[0m · array<1>{bool}\n",
      "│       ├── \u001b[1mcuspEmax_ctc_cal\u001b[0m · array<1>{real}\n",
      "│       ├── \u001b[1mtrapEmax_ctc_cal\u001b[0m · array<1>{real}\n",
      "│       ├── \u001b[1mtrapTmax_cal\u001b[0m · array<1>{real}\n",
      "│       └── \u001b[1mzacEmax_ctc_cal\u001b[0m · array<1>{real}\n",
      "├── \u001b[1mch029\u001b[0m · HDF5 group\n",
      "│   └── \u001b[1mhit\u001b[0m · table{Quality_cuts,cuspEmax_ctc_cal,zacEmax_ctc_cal,trapEmax_ctc_cal,trapTmax_cal,AoE_Corrected,AoE_Classifier,AoE_Low_Cut,AoE_Double_Sided_Cut}\n",
      "│       ├── \u001b[1mAoE_Classifier\u001b[0m · array<1>{real}\n",
      "│       ├── \u001b[1mAoE_Corrected\u001b[0m · array<1>{real}\n",
      "│       ├── \u001b[1mAoE_Double_Sided_Cut\u001b[0m · array<1>{bool}\n",
      "│       ├── \u001b[1mAoE_Low_Cut\u001b[0m · array<1>{bool}\n",
      "│       ├── \u001b[1mQuality_cuts\u001b[0m · array<1>{bool}\n",
      "│       ├── \u001b[1mcuspEmax_ctc_cal\u001b[0m · array<1>{real}\n",
      "│       ├── \u001b[1mtrapEmax_ctc_cal\u001b[0m · array<1>{real}\n",
      "│       ├── \u001b[1mtrapTmax_cal\u001b[0m · array<1>{real}\n",
      "│       └── \u001b[1mzacEmax_ctc_cal\u001b[0m · array<1>{real}\n",
      "├── \u001b[1mch037\u001b[0m · HDF5 group\n",
      "│   └── \u001b[1mhit\u001b[0m · table{Quality_cuts,cuspEmax_ctc_cal,zacEmax_ctc_cal,trapEmax_ctc_cal,trapTmax_cal,AoE_Corrected,AoE_Classifier,AoE_Low_Cut,AoE_Double_Sided_Cut}\n",
      "│       ├── \u001b[1mAoE_Classifier\u001b[0m · array<1>{real}\n",
      "│       ├── \u001b[1mAoE_Corrected\u001b[0m · array<1>{real}\n",
      "│       ├── \u001b[1mAoE_Double_Sided_Cut\u001b[0m · array<1>{bool}\n",
      "│       ├── \u001b[1mAoE_Low_Cut\u001b[0m · array<1>{bool}\n",
      "│       ├── \u001b[1mQuality_cuts\u001b[0m · array<1>{bool}\n",
      "│       ├── \u001b[1mcuspEmax_ctc_cal\u001b[0m · array<1>{real}\n",
      "│       ├── \u001b[1mtrapEmax_ctc_cal\u001b[0m · array<1>{real}\n",
      "│       ├── \u001b[1mtrapTmax_cal\u001b[0m · array<1>{real}\n",
      "│       └── \u001b[1mzacEmax_ctc_cal\u001b[0m · array<1>{real}\n",
      "├── \u001b[1mch038\u001b[0m · HDF5 group\n",
      "│   └── \u001b[1mhit\u001b[0m · table{Quality_cuts,cuspEmax_ctc_cal,zacEmax_ctc_cal,trapEmax_ctc_cal,trapTmax_cal,AoE_Corrected,AoE_Classifier,AoE_Low_Cut,AoE_Double_Sided_Cut}\n",
      "│       ├── \u001b[1mAoE_Classifier\u001b[0m · array<1>{real}\n",
      "│       ├── \u001b[1mAoE_Corrected\u001b[0m · array<1>{real}\n",
      "│       ├── \u001b[1mAoE_Double_Sided_Cut\u001b[0m · array<1>{bool}\n",
      "│       ├── \u001b[1mAoE_Low_Cut\u001b[0m · array<1>{bool}\n",
      "│       ├── \u001b[1mQuality_cuts\u001b[0m · array<1>{bool}\n",
      "│       ├── \u001b[1mcuspEmax_ctc_cal\u001b[0m · array<1>{real}\n",
      "│       ├── \u001b[1mtrapEmax_ctc_cal\u001b[0m · array<1>{real}\n",
      "│       ├── \u001b[1mtrapTmax_cal\u001b[0m · array<1>{real}\n",
      "│       └── \u001b[1mzacEmax_ctc_cal\u001b[0m · array<1>{real}\n",
      "├── \u001b[1mch039\u001b[0m · HDF5 group\n",
      "│   └── \u001b[1mhit\u001b[0m · table{Quality_cuts,cuspEmax_ctc_cal,zacEmax_ctc_cal,trapEmax_ctc_cal,trapTmax_cal,AoE_Corrected,AoE_Classifier,AoE_Low_Cut,AoE_Double_Sided_Cut}\n",
      "│       ├── \u001b[1mAoE_Classifier\u001b[0m · array<1>{real}\n",
      "│       ├── \u001b[1mAoE_Corrected\u001b[0m · array<1>{real}\n",
      "│       ├── \u001b[1mAoE_Double_Sided_Cut\u001b[0m · array<1>{bool}\n",
      "│       ├── \u001b[1mAoE_Low_Cut\u001b[0m · array<1>{bool}\n",
      "│       ├── \u001b[1mQuality_cuts\u001b[0m · array<1>{bool}\n",
      "│       ├── \u001b[1mcuspEmax_ctc_cal\u001b[0m · array<1>{real}\n",
      "│       ├── \u001b[1mtrapEmax_ctc_cal\u001b[0m · array<1>{real}\n",
      "│       ├── \u001b[1mtrapTmax_cal\u001b[0m · array<1>{real}\n",
      "│       └── \u001b[1mzacEmax_ctc_cal\u001b[0m · array<1>{real}\n",
      "├── \u001b[1mch040\u001b[0m · HDF5 group\n",
      "│   └── \u001b[1mhit\u001b[0m · table{Quality_cuts,cuspEmax_ctc_cal,zacEmax_ctc_cal,trapEmax_ctc_cal,trapTmax_cal,AoE_Corrected,AoE_Classifier,AoE_Low_Cut,AoE_Double_Sided_Cut}\n",
      "│       ├── \u001b[1mAoE_Classifier\u001b[0m · array<1>{real}\n",
      "│       ├── \u001b[1mAoE_Corrected\u001b[0m · array<1>{real}\n",
      "│       ├── \u001b[1mAoE_Double_Sided_Cut\u001b[0m · array<1>{bool}\n",
      "│       ├── \u001b[1mAoE_Low_Cut\u001b[0m · array<1>{bool}\n",
      "│       ├── \u001b[1mQuality_cuts\u001b[0m · array<1>{bool}\n",
      "│       ├── \u001b[1mcuspEmax_ctc_cal\u001b[0m · array<1>{real}\n",
      "│       ├── \u001b[1mtrapEmax_ctc_cal\u001b[0m · array<1>{real}\n",
      "│       ├── \u001b[1mtrapTmax_cal\u001b[0m · array<1>{real}\n",
      "│       └── \u001b[1mzacEmax_ctc_cal\u001b[0m · array<1>{real}\n",
      "├── \u001b[1mch042\u001b[0m · HDF5 group\n",
      "│   └── \u001b[1mhit\u001b[0m · table{Quality_cuts,cuspEmax_ctc_cal,zacEmax_ctc_cal,trapEmax_ctc_cal,trapTmax_cal,AoE_Corrected,AoE_Classifier,AoE_Low_Cut,AoE_Double_Sided_Cut}\n",
      "│       ├── \u001b[1mAoE_Classifier\u001b[0m · array<1>{real}\n",
      "│       ├── \u001b[1mAoE_Corrected\u001b[0m · array<1>{real}\n",
      "│       ├── \u001b[1mAoE_Double_Sided_Cut\u001b[0m · array<1>{bool}\n",
      "│       ├── \u001b[1mAoE_Low_Cut\u001b[0m · array<1>{bool}\n",
      "│       ├── \u001b[1mQuality_cuts\u001b[0m · array<1>{bool}\n",
      "│       ├── \u001b[1mcuspEmax_ctc_cal\u001b[0m · array<1>{real}\n",
      "│       ├── \u001b[1mtrapEmax_ctc_cal\u001b[0m · array<1>{real}\n",
      "│       ├── \u001b[1mtrapTmax_cal\u001b[0m · array<1>{real}\n",
      "│       └── \u001b[1mzacEmax_ctc_cal\u001b[0m · array<1>{real}\n",
      "├── \u001b[1mch043\u001b[0m · HDF5 group\n",
      "│   └── \u001b[1mhit\u001b[0m · table{Quality_cuts,cuspEmax_ctc_cal,zacEmax_ctc_cal,trapEmax_ctc_cal,trapTmax_cal,AoE_Corrected,AoE_Classifier,AoE_Low_Cut,AoE_Double_Sided_Cut}\n",
      "│       ├── \u001b[1mAoE_Classifier\u001b[0m · array<1>{real}\n",
      "│       ├── \u001b[1mAoE_Corrected\u001b[0m · array<1>{real}\n",
      "│       ├── \u001b[1mAoE_Double_Sided_Cut\u001b[0m · array<1>{bool}\n",
      "│       ├── \u001b[1mAoE_Low_Cut\u001b[0m · array<1>{bool}\n",
      "│       ├── \u001b[1mQuality_cuts\u001b[0m · array<1>{bool}\n",
      "│       ├── \u001b[1mcuspEmax_ctc_cal\u001b[0m · array<1>{real}\n",
      "│       ├── \u001b[1mtrapEmax_ctc_cal\u001b[0m · array<1>{real}\n",
      "│       ├── \u001b[1mtrapTmax_cal\u001b[0m · array<1>{real}\n",
      "│       └── \u001b[1mzacEmax_ctc_cal\u001b[0m · array<1>{real}\n",
      "├── \u001b[1mch046\u001b[0m · HDF5 group\n",
      "│   └── \u001b[1mhit\u001b[0m · table{energy_in_pe,quality_cut,trigger_pos,timestamp}\n",
      "│       ├── \u001b[1menergy_in_pe\u001b[0m · array_of_equalsized_arrays<2>{real}\n",
      "│       ├── \u001b[1mquality_cut\u001b[0m · array_of_equalsized_arrays<2>{bool}\n",
      "│       ├── \u001b[1mtimestamp\u001b[0m · array<1>{real}\n",
      "│       └── \u001b[1mtrigger_pos\u001b[0m · array_of_equalsized_arrays<2>{real}\n",
      "├── \u001b[1mch048\u001b[0m · HDF5 group\n",
      "│   └── \u001b[1mhit\u001b[0m · table{energy_in_pe,quality_cut,trigger_pos,timestamp}\n",
      "│       ├── \u001b[1menergy_in_pe\u001b[0m · array_of_equalsized_arrays<2>{real}\n",
      "│       ├── \u001b[1mquality_cut\u001b[0m · array_of_equalsized_arrays<2>{bool}\n",
      "│       ├── \u001b[1mtimestamp\u001b[0m · array<1>{real}\n",
      "│       └── \u001b[1mtrigger_pos\u001b[0m · array_of_equalsized_arrays<2>{real}\n",
      "├── \u001b[1mch051\u001b[0m · HDF5 group\n",
      "│   └── \u001b[1mhit\u001b[0m · table{energy_in_pe,quality_cut,trigger_pos,timestamp}\n",
      "│       ├── \u001b[1menergy_in_pe\u001b[0m · array_of_equalsized_arrays<2>{real}\n",
      "│       ├── \u001b[1mquality_cut\u001b[0m · array_of_equalsized_arrays<2>{bool}\n",
      "│       ├── \u001b[1mtimestamp\u001b[0m · array<1>{real}\n",
      "│       └── \u001b[1mtrigger_pos\u001b[0m · array_of_equalsized_arrays<2>{real}\n",
      "├── \u001b[1mch052\u001b[0m · HDF5 group\n",
      "│   └── \u001b[1mhit\u001b[0m · table{energy_in_pe,quality_cut,trigger_pos,timestamp}\n",
      "│       ├── \u001b[1menergy_in_pe\u001b[0m · array_of_equalsized_arrays<2>{real}\n",
      "│       ├── \u001b[1mquality_cut\u001b[0m · array_of_equalsized_arrays<2>{bool}\n",
      "│       ├── \u001b[1mtimestamp\u001b[0m · array<1>{real}\n",
      "│       └── \u001b[1mtrigger_pos\u001b[0m · array_of_equalsized_arrays<2>{real}\n",
      "├── \u001b[1mch053\u001b[0m · HDF5 group\n",
      "│   └── \u001b[1mhit\u001b[0m · table{energy_in_pe,quality_cut,trigger_pos,timestamp}\n",
      "│       ├── \u001b[1menergy_in_pe\u001b[0m · array_of_equalsized_arrays<2>{real}\n",
      "│       ├── \u001b[1mquality_cut\u001b[0m · array_of_equalsized_arrays<2>{bool}\n",
      "│       ├── \u001b[1mtimestamp\u001b[0m · array<1>{real}\n",
      "│       └── \u001b[1mtrigger_pos\u001b[0m · array_of_equalsized_arrays<2>{real}\n",
      "├── \u001b[1mch054\u001b[0m · HDF5 group\n",
      "│   └── \u001b[1mhit\u001b[0m · table{energy_in_pe,quality_cut,trigger_pos,timestamp}\n",
      "│       ├── \u001b[1menergy_in_pe\u001b[0m · array_of_equalsized_arrays<2>{real}\n",
      "│       ├── \u001b[1mquality_cut\u001b[0m · array_of_equalsized_arrays<2>{bool}\n",
      "│       ├── \u001b[1mtimestamp\u001b[0m · array<1>{real}\n",
      "│       └── \u001b[1mtrigger_pos\u001b[0m · array_of_equalsized_arrays<2>{real}\n",
      "├── \u001b[1mch055\u001b[0m · HDF5 group\n",
      "│   └── \u001b[1mhit\u001b[0m · table{energy_in_pe,quality_cut,trigger_pos,timestamp}\n",
      "│       ├── \u001b[1menergy_in_pe\u001b[0m · array_of_equalsized_arrays<2>{real}\n",
      "│       ├── \u001b[1mquality_cut\u001b[0m · array_of_equalsized_arrays<2>{bool}\n",
      "│       ├── \u001b[1mtimestamp\u001b[0m · array<1>{real}\n",
      "│       └── \u001b[1mtrigger_pos\u001b[0m · array_of_equalsized_arrays<2>{real}\n",
      "├── \u001b[1mch056\u001b[0m · HDF5 group\n",
      "│   └── \u001b[1mhit\u001b[0m · table{energy_in_pe,quality_cut,trigger_pos,timestamp}\n",
      "│       ├── \u001b[1menergy_in_pe\u001b[0m · array_of_equalsized_arrays<2>{real}\n",
      "│       ├── \u001b[1mquality_cut\u001b[0m · array_of_equalsized_arrays<2>{bool}\n",
      "│       ├── \u001b[1mtimestamp\u001b[0m · array<1>{real}\n",
      "│       └── \u001b[1mtrigger_pos\u001b[0m · array_of_equalsized_arrays<2>{real}\n",
      "├── \u001b[1mch057\u001b[0m · HDF5 group\n",
      "│   └── \u001b[1mhit\u001b[0m · table{energy_in_pe,quality_cut,trigger_pos,timestamp}\n",
      "│       ├── \u001b[1menergy_in_pe\u001b[0m · array_of_equalsized_arrays<2>{real}\n",
      "│       ├── \u001b[1mquality_cut\u001b[0m · array_of_equalsized_arrays<2>{bool}\n",
      "│       ├── \u001b[1mtimestamp\u001b[0m · array<1>{real}\n",
      "│       └── \u001b[1mtrigger_pos\u001b[0m · array_of_equalsized_arrays<2>{real}\n",
      "├── \u001b[1mch058\u001b[0m · HDF5 group\n",
      "│   └── \u001b[1mhit\u001b[0m · table{energy_in_pe,quality_cut,trigger_pos,timestamp}\n",
      "│       ├── \u001b[1menergy_in_pe\u001b[0m · array_of_equalsized_arrays<2>{real}\n",
      "│       ├── \u001b[1mquality_cut\u001b[0m · array_of_equalsized_arrays<2>{bool}\n",
      "│       ├── \u001b[1mtimestamp\u001b[0m · array<1>{real}\n",
      "│       └── \u001b[1mtrigger_pos\u001b[0m · array_of_equalsized_arrays<2>{real}\n",
      "├── \u001b[1mch059\u001b[0m · HDF5 group\n",
      "│   └── \u001b[1mhit\u001b[0m · table{energy_in_pe,quality_cut,trigger_pos,timestamp}\n",
      "│       ├── \u001b[1menergy_in_pe\u001b[0m · array_of_equalsized_arrays<2>{real}\n",
      "│       ├── \u001b[1mquality_cut\u001b[0m · array_of_equalsized_arrays<2>{bool}\n",
      "│       ├── \u001b[1mtimestamp\u001b[0m · array<1>{real}\n",
      "│       └── \u001b[1mtrigger_pos\u001b[0m · array_of_equalsized_arrays<2>{real}\n",
      "├── \u001b[1mch060\u001b[0m · HDF5 group\n",
      "│   └── \u001b[1mhit\u001b[0m · table{energy_in_pe,quality_cut,trigger_pos,timestamp}\n",
      "│       ├── \u001b[1menergy_in_pe\u001b[0m · array_of_equalsized_arrays<2>{real}\n",
      "│       ├── \u001b[1mquality_cut\u001b[0m · array_of_equalsized_arrays<2>{bool}\n",
      "│       ├── \u001b[1mtimestamp\u001b[0m · array<1>{real}\n",
      "│       └── \u001b[1mtrigger_pos\u001b[0m · array_of_equalsized_arrays<2>{real}\n",
      "├── \u001b[1mch061\u001b[0m · HDF5 group\n",
      "│   └── \u001b[1mhit\u001b[0m · table{energy_in_pe,quality_cut,trigger_pos,timestamp}\n",
      "│       ├── \u001b[1menergy_in_pe\u001b[0m · array_of_equalsized_arrays<2>{real}\n",
      "│       ├── \u001b[1mquality_cut\u001b[0m · array_of_equalsized_arrays<2>{bool}\n",
      "│       ├── \u001b[1mtimestamp\u001b[0m · array<1>{real}\n",
      "│       └── \u001b[1mtrigger_pos\u001b[0m · array_of_equalsized_arrays<2>{real}\n",
      "├── \u001b[1mch062\u001b[0m · HDF5 group\n",
      "│   └── \u001b[1mhit\u001b[0m · table{energy_in_pe,quality_cut,trigger_pos,timestamp}\n",
      "│       ├── \u001b[1menergy_in_pe\u001b[0m · array_of_equalsized_arrays<2>{real}\n",
      "│       ├── \u001b[1mquality_cut\u001b[0m · array_of_equalsized_arrays<2>{bool}\n",
      "│       ├── \u001b[1mtimestamp\u001b[0m · array<1>{real}\n",
      "│       └── \u001b[1mtrigger_pos\u001b[0m · array_of_equalsized_arrays<2>{real}\n",
      "├── \u001b[1mch063\u001b[0m · HDF5 group\n",
      "│   └── \u001b[1mhit\u001b[0m · table{energy_in_pe,quality_cut,trigger_pos,timestamp}\n",
      "│       ├── \u001b[1menergy_in_pe\u001b[0m · array_of_equalsized_arrays<2>{real}\n",
      "│       ├── \u001b[1mquality_cut\u001b[0m · array_of_equalsized_arrays<2>{bool}\n",
      "│       ├── \u001b[1mtimestamp\u001b[0m · array<1>{real}\n",
      "│       └── \u001b[1mtrigger_pos\u001b[0m · array_of_equalsized_arrays<2>{real}\n",
      "├── \u001b[1mch064\u001b[0m · HDF5 group\n",
      "│   └── \u001b[1mhit\u001b[0m · table{energy_in_pe,quality_cut,trigger_pos,timestamp}\n",
      "│       ├── \u001b[1menergy_in_pe\u001b[0m · array_of_equalsized_arrays<2>{real}\n",
      "│       ├── \u001b[1mquality_cut\u001b[0m · array_of_equalsized_arrays<2>{bool}\n",
      "│       ├── \u001b[1mtimestamp\u001b[0m · array<1>{real}\n",
      "│       └── \u001b[1mtrigger_pos\u001b[0m · array_of_equalsized_arrays<2>{real}\n",
      "├── \u001b[1mch065\u001b[0m · HDF5 group\n",
      "│   └── \u001b[1mhit\u001b[0m · table{energy_in_pe,quality_cut,trigger_pos,timestamp}\n",
      "│       ├── \u001b[1menergy_in_pe\u001b[0m · array_of_equalsized_arrays<2>{real}\n",
      "│       ├── \u001b[1mquality_cut\u001b[0m · array_of_equalsized_arrays<2>{bool}\n",
      "│       ├── \u001b[1mtimestamp\u001b[0m · array<1>{real}\n",
      "│       └── \u001b[1mtrigger_pos\u001b[0m · array_of_equalsized_arrays<2>{real}\n",
      "├── \u001b[1mch066\u001b[0m · HDF5 group\n",
      "│   └── \u001b[1mhit\u001b[0m · table{energy_in_pe,quality_cut,trigger_pos,timestamp}\n",
      "│       ├── \u001b[1menergy_in_pe\u001b[0m · array_of_equalsized_arrays<2>{real}\n",
      "│       ├── \u001b[1mquality_cut\u001b[0m · array_of_equalsized_arrays<2>{bool}\n",
      "│       ├── \u001b[1mtimestamp\u001b[0m · array<1>{real}\n",
      "│       └── \u001b[1mtrigger_pos\u001b[0m · array_of_equalsized_arrays<2>{real}\n",
      "├── \u001b[1mch067\u001b[0m · HDF5 group\n",
      "│   └── \u001b[1mhit\u001b[0m · table{energy_in_pe,quality_cut,trigger_pos,timestamp}\n",
      "│       ├── \u001b[1menergy_in_pe\u001b[0m · array_of_equalsized_arrays<2>{real}\n",
      "│       ├── \u001b[1mquality_cut\u001b[0m · array_of_equalsized_arrays<2>{bool}\n",
      "│       ├── \u001b[1mtimestamp\u001b[0m · array<1>{real}\n",
      "│       └── \u001b[1mtrigger_pos\u001b[0m · array_of_equalsized_arrays<2>{real}\n",
      "├── \u001b[1mch068\u001b[0m · HDF5 group\n",
      "│   └── \u001b[1mhit\u001b[0m · table{energy_in_pe,quality_cut,trigger_pos,timestamp}\n",
      "│       ├── \u001b[1menergy_in_pe\u001b[0m · array_of_equalsized_arrays<2>{real}\n",
      "│       ├── \u001b[1mquality_cut\u001b[0m · array_of_equalsized_arrays<2>{bool}\n",
      "│       ├── \u001b[1mtimestamp\u001b[0m · array<1>{real}\n",
      "│       └── \u001b[1mtrigger_pos\u001b[0m · array_of_equalsized_arrays<2>{real}\n",
      "├── \u001b[1mch069\u001b[0m · HDF5 group\n",
      "│   └── \u001b[1mhit\u001b[0m · table{energy_in_pe,quality_cut,trigger_pos,timestamp}\n",
      "│       ├── \u001b[1menergy_in_pe\u001b[0m · array_of_equalsized_arrays<2>{real}\n",
      "│       ├── \u001b[1mquality_cut\u001b[0m · array_of_equalsized_arrays<2>{bool}\n",
      "│       ├── \u001b[1mtimestamp\u001b[0m · array<1>{real}\n",
      "│       └── \u001b[1mtrigger_pos\u001b[0m · array_of_equalsized_arrays<2>{real}\n",
      "├── \u001b[1mch074\u001b[0m · HDF5 group\n",
      "│   └── \u001b[1mhit\u001b[0m · table{energy_in_pe,quality_cut,trigger_pos,timestamp}\n",
      "│       ├── \u001b[1menergy_in_pe\u001b[0m · array_of_equalsized_arrays<2>{real}\n",
      "│       ├── \u001b[1mquality_cut\u001b[0m · array_of_equalsized_arrays<2>{bool}\n",
      "│       ├── \u001b[1mtimestamp\u001b[0m · array<1>{real}\n",
      "│       └── \u001b[1mtrigger_pos\u001b[0m · array_of_equalsized_arrays<2>{real}\n",
      "├── \u001b[1mch075\u001b[0m · HDF5 group\n",
      "│   └── \u001b[1mhit\u001b[0m · table{energy_in_pe,quality_cut,trigger_pos,timestamp}\n",
      "│       ├── \u001b[1menergy_in_pe\u001b[0m · array_of_equalsized_arrays<2>{real}\n",
      "│       ├── \u001b[1mquality_cut\u001b[0m · array_of_equalsized_arrays<2>{bool}\n",
      "│       ├── \u001b[1mtimestamp\u001b[0m · array<1>{real}\n",
      "│       └── \u001b[1mtrigger_pos\u001b[0m · array_of_equalsized_arrays<2>{real}\n",
      "├── \u001b[1mch076\u001b[0m · HDF5 group\n",
      "│   └── \u001b[1mhit\u001b[0m · table{energy_in_pe,quality_cut,trigger_pos,timestamp}\n",
      "│       ├── \u001b[1menergy_in_pe\u001b[0m · array_of_equalsized_arrays<2>{real}\n",
      "│       ├── \u001b[1mquality_cut\u001b[0m · array_of_equalsized_arrays<2>{bool}\n",
      "│       ├── \u001b[1mtimestamp\u001b[0m · array<1>{real}\n",
      "│       └── \u001b[1mtrigger_pos\u001b[0m · array_of_equalsized_arrays<2>{real}\n",
      "├── \u001b[1mch077\u001b[0m · HDF5 group\n",
      "│   └── \u001b[1mhit\u001b[0m · table{energy_in_pe,quality_cut,trigger_pos,timestamp}\n",
      "│       ├── \u001b[1menergy_in_pe\u001b[0m · array_of_equalsized_arrays<2>{real}\n",
      "│       ├── \u001b[1mquality_cut\u001b[0m · array_of_equalsized_arrays<2>{bool}\n",
      "│       ├── \u001b[1mtimestamp\u001b[0m · array<1>{real}\n",
      "│       └── \u001b[1mtrigger_pos\u001b[0m · array_of_equalsized_arrays<2>{real}\n",
      "├── \u001b[1mch078\u001b[0m · HDF5 group\n",
      "│   └── \u001b[1mhit\u001b[0m · table{energy_in_pe,quality_cut,trigger_pos,timestamp}\n",
      "│       ├── \u001b[1menergy_in_pe\u001b[0m · array_of_equalsized_arrays<2>{real}\n",
      "│       ├── \u001b[1mquality_cut\u001b[0m · array_of_equalsized_arrays<2>{bool}\n",
      "│       ├── \u001b[1mtimestamp\u001b[0m · array<1>{real}\n",
      "│       └── \u001b[1mtrigger_pos\u001b[0m · array_of_equalsized_arrays<2>{real}\n",
      "├── \u001b[1mch079\u001b[0m · HDF5 group\n",
      "│   └── \u001b[1mhit\u001b[0m · table{energy_in_pe,quality_cut,trigger_pos,timestamp}\n",
      "│       ├── \u001b[1menergy_in_pe\u001b[0m · array_of_equalsized_arrays<2>{real}\n",
      "│       ├── \u001b[1mquality_cut\u001b[0m · array_of_equalsized_arrays<2>{bool}\n",
      "│       ├── \u001b[1mtimestamp\u001b[0m · array<1>{real}\n",
      "│       └── \u001b[1mtrigger_pos\u001b[0m · array_of_equalsized_arrays<2>{real}\n",
      "├── \u001b[1mch082\u001b[0m · HDF5 group\n",
      "│   └── \u001b[1mhit\u001b[0m · table{energy_in_pe,quality_cut,trigger_pos,timestamp}\n",
      "│       ├── \u001b[1menergy_in_pe\u001b[0m · array_of_equalsized_arrays<2>{real}\n",
      "│       ├── \u001b[1mquality_cut\u001b[0m · array_of_equalsized_arrays<2>{bool}\n",
      "│       ├── \u001b[1mtimestamp\u001b[0m · array<1>{real}\n",
      "│       └── \u001b[1mtrigger_pos\u001b[0m · array_of_equalsized_arrays<2>{real}\n",
      "├── \u001b[1mch084\u001b[0m · HDF5 group\n",
      "│   └── \u001b[1mhit\u001b[0m · table{energy_in_pe,quality_cut,trigger_pos,timestamp}\n",
      "│       ├── \u001b[1menergy_in_pe\u001b[0m · array_of_equalsized_arrays<2>{real}\n",
      "│       ├── \u001b[1mquality_cut\u001b[0m · array_of_equalsized_arrays<2>{bool}\n",
      "│       ├── \u001b[1mtimestamp\u001b[0m · array<1>{real}\n",
      "│       └── \u001b[1mtrigger_pos\u001b[0m · array_of_equalsized_arrays<2>{real}\n",
      "├── \u001b[1mch086\u001b[0m · HDF5 group\n",
      "│   └── \u001b[1mhit\u001b[0m · table{energy_in_pe,quality_cut,trigger_pos,timestamp}\n",
      "│       ├── \u001b[1menergy_in_pe\u001b[0m · array_of_equalsized_arrays<2>{real}\n",
      "│       ├── \u001b[1mquality_cut\u001b[0m · array_of_equalsized_arrays<2>{bool}\n",
      "│       ├── \u001b[1mtimestamp\u001b[0m · array<1>{real}\n",
      "│       └── \u001b[1mtrigger_pos\u001b[0m · array_of_equalsized_arrays<2>{real}\n",
      "├── \u001b[1mch087\u001b[0m · HDF5 group\n",
      "│   └── \u001b[1mhit\u001b[0m · table{energy_in_pe,quality_cut,trigger_pos,timestamp}\n",
      "│       ├── \u001b[1menergy_in_pe\u001b[0m · array_of_equalsized_arrays<2>{real}\n",
      "│       ├── \u001b[1mquality_cut\u001b[0m · array_of_equalsized_arrays<2>{bool}\n",
      "│       ├── \u001b[1mtimestamp\u001b[0m · array<1>{real}\n",
      "│       └── \u001b[1mtrigger_pos\u001b[0m · array_of_equalsized_arrays<2>{real}\n",
      "├── \u001b[1mch088\u001b[0m · HDF5 group\n",
      "│   └── \u001b[1mhit\u001b[0m · table{energy_in_pe,quality_cut,trigger_pos,timestamp}\n",
      "│       ├── \u001b[1menergy_in_pe\u001b[0m · array_of_equalsized_arrays<2>{real}\n",
      "│       ├── \u001b[1mquality_cut\u001b[0m · array_of_equalsized_arrays<2>{bool}\n",
      "│       ├── \u001b[1mtimestamp\u001b[0m · array<1>{real}\n",
      "│       └── \u001b[1mtrigger_pos\u001b[0m · array_of_equalsized_arrays<2>{real}\n",
      "├── \u001b[1mch089\u001b[0m · HDF5 group\n",
      "│   └── \u001b[1mhit\u001b[0m · table{energy_in_pe,quality_cut,trigger_pos,timestamp}\n",
      "│       ├── \u001b[1menergy_in_pe\u001b[0m · array_of_equalsized_arrays<2>{real}\n",
      "│       ├── \u001b[1mquality_cut\u001b[0m · array_of_equalsized_arrays<2>{bool}\n",
      "│       ├── \u001b[1mtimestamp\u001b[0m · array<1>{real}\n",
      "│       └── \u001b[1mtrigger_pos\u001b[0m · array_of_equalsized_arrays<2>{real}\n",
      "├── \u001b[1mch090\u001b[0m · HDF5 group\n",
      "│   └── \u001b[1mhit\u001b[0m · table{energy_in_pe,quality_cut,trigger_pos,timestamp}\n",
      "│       ├── \u001b[1menergy_in_pe\u001b[0m · array_of_equalsized_arrays<2>{real}\n",
      "│       ├── \u001b[1mquality_cut\u001b[0m · array_of_equalsized_arrays<2>{bool}\n",
      "│       ├── \u001b[1mtimestamp\u001b[0m · array<1>{real}\n",
      "│       └── \u001b[1mtrigger_pos\u001b[0m · array_of_equalsized_arrays<2>{real}\n",
      "├── \u001b[1mch092\u001b[0m · HDF5 group\n",
      "│   └── \u001b[1mhit\u001b[0m · table{energy_in_pe,quality_cut,trigger_pos,timestamp}\n",
      "│       ├── \u001b[1menergy_in_pe\u001b[0m · array_of_equalsized_arrays<2>{real}\n",
      "│       ├── \u001b[1mquality_cut\u001b[0m · array_of_equalsized_arrays<2>{bool}\n",
      "│       ├── \u001b[1mtimestamp\u001b[0m · array<1>{real}\n",
      "│       └── \u001b[1mtrigger_pos\u001b[0m · array_of_equalsized_arrays<2>{real}\n",
      "├── \u001b[1mch093\u001b[0m · HDF5 group\n",
      "│   └── \u001b[1mhit\u001b[0m · table{energy_in_pe,quality_cut,trigger_pos,timestamp}\n",
      "│       ├── \u001b[1menergy_in_pe\u001b[0m · array_of_equalsized_arrays<2>{real}\n",
      "│       ├── \u001b[1mquality_cut\u001b[0m · array_of_equalsized_arrays<2>{bool}\n",
      "│       ├── \u001b[1mtimestamp\u001b[0m · array<1>{real}\n",
      "│       └── \u001b[1mtrigger_pos\u001b[0m · array_of_equalsized_arrays<2>{real}\n",
      "├── \u001b[1mch094\u001b[0m · HDF5 group\n",
      "│   └── \u001b[1mhit\u001b[0m · table{energy_in_pe,quality_cut,trigger_pos,timestamp}\n",
      "│       ├── \u001b[1menergy_in_pe\u001b[0m · array_of_equalsized_arrays<2>{real}\n",
      "│       ├── \u001b[1mquality_cut\u001b[0m · array_of_equalsized_arrays<2>{bool}\n",
      "│       ├── \u001b[1mtimestamp\u001b[0m · array<1>{real}\n",
      "│       └── \u001b[1mtrigger_pos\u001b[0m · array_of_equalsized_arrays<2>{real}\n",
      "├── \u001b[1mch095\u001b[0m · HDF5 group\n",
      "│   └── \u001b[1mhit\u001b[0m · table{energy_in_pe,quality_cut,trigger_pos,timestamp}\n",
      "│       ├── \u001b[1menergy_in_pe\u001b[0m · array_of_equalsized_arrays<2>{real}\n",
      "│       ├── \u001b[1mquality_cut\u001b[0m · array_of_equalsized_arrays<2>{bool}\n",
      "│       ├── \u001b[1mtimestamp\u001b[0m · array<1>{real}\n",
      "│       └── \u001b[1mtrigger_pos\u001b[0m · array_of_equalsized_arrays<2>{real}\n",
      "├── \u001b[1mch096\u001b[0m · HDF5 group\n",
      "│   └── \u001b[1mhit\u001b[0m · table{energy_in_pe,quality_cut,trigger_pos,timestamp}\n",
      "│       ├── \u001b[1menergy_in_pe\u001b[0m · array_of_equalsized_arrays<2>{real}\n",
      "│       ├── \u001b[1mquality_cut\u001b[0m · array_of_equalsized_arrays<2>{bool}\n",
      "│       ├── \u001b[1mtimestamp\u001b[0m · array<1>{real}\n",
      "│       └── \u001b[1mtrigger_pos\u001b[0m · array_of_equalsized_arrays<2>{real}\n",
      "├── \u001b[1mch097\u001b[0m · HDF5 group\n",
      "│   └── \u001b[1mhit\u001b[0m · table{energy_in_pe,quality_cut,trigger_pos,timestamp}\n",
      "│       ├── \u001b[1menergy_in_pe\u001b[0m · array_of_equalsized_arrays<2>{real}\n",
      "│       ├── \u001b[1mquality_cut\u001b[0m · array_of_equalsized_arrays<2>{bool}\n",
      "│       ├── \u001b[1mtimestamp\u001b[0m · array<1>{real}\n",
      "│       └── \u001b[1mtrigger_pos\u001b[0m · array_of_equalsized_arrays<2>{real}\n",
      "├── \u001b[1mch098\u001b[0m · HDF5 group\n",
      "│   └── \u001b[1mhit\u001b[0m · table{energy_in_pe,quality_cut,trigger_pos,timestamp}\n",
      "│       ├── \u001b[1menergy_in_pe\u001b[0m · array_of_equalsized_arrays<2>{real}\n",
      "│       ├── \u001b[1mquality_cut\u001b[0m · array_of_equalsized_arrays<2>{bool}\n",
      "│       ├── \u001b[1mtimestamp\u001b[0m · array<1>{real}\n",
      "│       └── \u001b[1mtrigger_pos\u001b[0m · array_of_equalsized_arrays<2>{real}\n",
      "├── \u001b[1mch099\u001b[0m · HDF5 group\n",
      "│   └── \u001b[1mhit\u001b[0m · table{energy_in_pe,quality_cut,trigger_pos,timestamp}\n",
      "│       ├── \u001b[1menergy_in_pe\u001b[0m · array_of_equalsized_arrays<2>{real}\n",
      "│       ├── \u001b[1mquality_cut\u001b[0m · array_of_equalsized_arrays<2>{bool}\n",
      "│       ├── \u001b[1mtimestamp\u001b[0m · array<1>{real}\n",
      "│       └── \u001b[1mtrigger_pos\u001b[0m · array_of_equalsized_arrays<2>{real}\n",
      "├── \u001b[1mch100\u001b[0m · HDF5 group\n",
      "│   └── \u001b[1mhit\u001b[0m · table{energy_in_pe,quality_cut,trigger_pos,timestamp}\n",
      "│       ├── \u001b[1menergy_in_pe\u001b[0m · array_of_equalsized_arrays<2>{real}\n",
      "│       ├── \u001b[1mquality_cut\u001b[0m · array_of_equalsized_arrays<2>{bool}\n",
      "│       ├── \u001b[1mtimestamp\u001b[0m · array<1>{real}\n",
      "│       └── \u001b[1mtrigger_pos\u001b[0m · array_of_equalsized_arrays<2>{real}\n",
      "├── \u001b[1mch101\u001b[0m · HDF5 group\n",
      "│   └── \u001b[1mhit\u001b[0m · table{energy_in_pe,quality_cut,trigger_pos,timestamp}\n",
      "│       ├── \u001b[1menergy_in_pe\u001b[0m · array_of_equalsized_arrays<2>{real}\n",
      "│       ├── \u001b[1mquality_cut\u001b[0m · array_of_equalsized_arrays<2>{bool}\n",
      "│       ├── \u001b[1mtimestamp\u001b[0m · array<1>{real}\n",
      "│       └── \u001b[1mtrigger_pos\u001b[0m · array_of_equalsized_arrays<2>{real}\n",
      "├── \u001b[1mch102\u001b[0m · HDF5 group\n",
      "│   └── \u001b[1mhit\u001b[0m · table{energy_in_pe,quality_cut,trigger_pos,timestamp}\n",
      "│       ├── \u001b[1menergy_in_pe\u001b[0m · array_of_equalsized_arrays<2>{real}\n",
      "│       ├── \u001b[1mquality_cut\u001b[0m · array_of_equalsized_arrays<2>{bool}\n",
      "│       ├── \u001b[1mtimestamp\u001b[0m · array<1>{real}\n",
      "│       └── \u001b[1mtrigger_pos\u001b[0m · array_of_equalsized_arrays<2>{real}\n",
      "└── \u001b[1mch103\u001b[0m · HDF5 group\n",
      "    └── \u001b[1mhit\u001b[0m · table{energy_in_pe,quality_cut,trigger_pos,timestamp}\n",
      "        ├── \u001b[1menergy_in_pe\u001b[0m · array_of_equalsized_arrays<2>{real}\n",
      "        ├── \u001b[1mquality_cut\u001b[0m · array_of_equalsized_arrays<2>{bool}\n",
      "        ├── \u001b[1mtimestamp\u001b[0m · array<1>{real}\n",
      "        └── \u001b[1mtrigger_pos\u001b[0m · array_of_equalsized_arrays<2>{real}\n"
     ]
    }
   ],
   "source": [
    "print(\"In RAW: \\n \")\n",
    "show_raw = lh5.show(raw_files[0],\"ch000\")\n",
    "# # choosing to show only the contents for ch000\n",
    "# show_raw = lh5.show(raw_files[0])\n",
    "# print(\"In DSP: \\n \")\n",
    "# show_dsp = lh5.show(dsp_files[0],\"ch000\")\n",
    "print(\"In HIT: \\n \")\n",
    "show_hit = lh5.show(hit_files[0])\n",
    "# print(\" In TCM: \\n \")\n",
    "# show_tcm = lh5.show(tcm_files[0])"
   ]
  },
  {
   "cell_type": "code",
   "execution_count": 24,
   "id": "f7a8a9ba-2935-4358-9f1a-50469268b48f",
   "metadata": {},
   "outputs": [],
   "source": [
    "# hit_channels = lh5.ls(hit_files[0])\n",
    "# energy = np.array([])\n",
    "# aoe = np.array([])\n",
    "# aoe_pass = np.array([], dtype=bool)\n",
    "# for channel in hit_channels:\n",
    "#     try:\n",
    "#         hit_data = lh5.load_nda(hit_files, \n",
    "#                         [\"cuspEmax_ctc_cal\", \"AoE_Double_Sided_Cut\", \"AoE_Classifier\"], f'{channel}/hit')\n",
    "#         pulser_events = hit_data[\"AoE_Classifier\"]>10\n",
    "#         energy=np.append(energy, hit_data[\"cuspEmax_ctc_cal\"])#[~pulser_events]\n",
    "#         aoe_pass=np.append(aoe_pass, hit_data[\"AoE_Double_Sided_Cut\"])\n",
    "#         aoe=np.append(aoe, hit_data[\"AoE_Classifier\"])\n",
    "#         print(f\"channel {channel} loaded\")\n",
    "#     except:\n",
    "#         print(f\" **** channel {channel} exclued\")"
   ]
  },
  {
   "cell_type": "code",
   "execution_count": 43,
   "id": "88b354a8-c967-4edf-a274-6ef55880a38c",
   "metadata": {},
   "outputs": [],
   "source": [
    "# fig,ax = plt.subplots()\n",
    "# bins = np.linspace(0,3000,3000)\n",
    "# counts, edges, _ = ax.hist(energy, bins=bins, histtype='step', label='After quality cuts')\n",
    "# counts_pass, edges_pass, _ = ax.hist(energy[aoe_pass], bins=bins, histtype='step', label=\"After quality cuts and pulse shape discrimination cut\")\n",
    "# ax.set_yscale('log')\n",
    "# plt.xlabel(\"Energy (keV)\")\n",
    "# plt.ylabel(\"Counts / keV\")\n",
    "# plt.legend()\n",
    "# plt.xlim(1400,1800)\n",
    "# # Count the number of events in the 1460 keV region\n",
    "# region_counts = np.sum((energy >= 1455) & (energy <= 1465))\n",
    "# region_counts_pass = np.sum((energy[aoe_pass] >= 1455) & (energy[aoe_pass] <= 1465))\n",
    "# print(f\"Number of events in the 1460 +- 5 keV region: {region_counts}\")\n",
    "# print(f\"Number of events passing the pulse shape discrimination cut in the 1460 +- 5 keV region: {region_counts_pass}\")\n",
    "\n",
    "# plt.show()\n"
   ]
  },
  {
   "cell_type": "code",
   "execution_count": 44,
   "id": "406b6025-0a46-424e-8f54-9316ba6b1d08",
   "metadata": {},
   "outputs": [],
   "source": [
    "sto=lh5.LH5Store()"
   ]
  },
  {
   "cell_type": "code",
   "execution_count": 45,
   "id": "99cf2e10-6ca6-4f35-a5a0-e22593c59e99",
   "metadata": {},
   "outputs": [],
   "source": [
    "sto=lh5.LH5Store()\n",
    "wfs = sto.read_object(\"ch087/raw/waveform\", raw_files[0])"
   ]
  },
  {
   "cell_type": "code",
   "execution_count": 46,
   "id": "d1e12fb1-39ac-4d4d-867e-ccece5ad6084",
   "metadata": {},
   "outputs": [
    {
     "data": {
      "text/plain": [
       "(WaveformTable(dict={'t0': Array([0. 0. ... 0. 0.], attrs={'datatype': 'array<1>{real}', 'units': 'ns'}), 'dt': Array([16. 16. ... 16. 16.], attrs={'datatype': 'array<1>{real}', 'units': 'ns'}), 'values': ArrayOfEqualSizedArrays([[15104 15104 ... 15113 15119] [15107 15107 ... 15109 15108] ... [15107 15103 ... 15102 15113] [15106 15112 ... 15112 15107]], attrs={'datatype': 'array_of_equalsized_arrays<1,1>{real}'})}, attrs={'datatype': 'table{t0,dt,values}'}),\n",
       " 3080)"
      ]
     },
     "execution_count": 46,
     "metadata": {},
     "output_type": "execute_result"
    }
   ],
   "source": [
    "wfs"
   ]
  },
  {
   "cell_type": "code",
   "execution_count": 47,
   "id": "3f2129af-2367-4141-bc88-36cd49f5bbd9",
   "metadata": {},
   "outputs": [
    {
     "data": {
      "text/plain": [
       "tuple"
      ]
     },
     "execution_count": 47,
     "metadata": {},
     "output_type": "execute_result"
    }
   ],
   "source": [
    "type(wfs)"
   ]
  },
  {
   "cell_type": "code",
   "execution_count": 48,
   "id": "e7c7ee9d-5842-4ab8-81bd-6dedf0a06e90",
   "metadata": {},
   "outputs": [
    {
     "data": {
      "text/plain": [
       "2"
      ]
     },
     "execution_count": 48,
     "metadata": {},
     "output_type": "execute_result"
    }
   ],
   "source": [
    "len(wfs)"
   ]
  },
  {
   "cell_type": "code",
   "execution_count": 49,
   "id": "d4db1e95-c78b-4c06-91a0-0eb97d61c95a",
   "metadata": {},
   "outputs": [
    {
     "name": "stdout",
     "output_type": "stream",
     "text": [
      "<class 'pygama.lgdo.waveform_table.WaveformTable'> <class 'int'>\n"
     ]
    }
   ],
   "source": [
    "print(type(wfs[0]),type(wfs[1]))"
   ]
  },
  {
   "cell_type": "code",
   "execution_count": 50,
   "id": "f69dc1bc-3e62-476f-b936-99b9ff345a85",
   "metadata": {},
   "outputs": [
    {
     "data": {
      "text/plain": [
       "3080"
      ]
     },
     "execution_count": 50,
     "metadata": {},
     "output_type": "execute_result"
    }
   ],
   "source": [
    "len(wfs[0])"
   ]
  },
  {
   "cell_type": "code",
   "execution_count": 51,
   "id": "eea6930e-9e00-4c12-94c2-1053dcae792b",
   "metadata": {},
   "outputs": [
    {
     "name": "stdout",
     "output_type": "stream",
     "text": [
      "3080 3080 3080\n"
     ]
    }
   ],
   "source": [
    "print(len(wfs[0]['t0']), len(wfs[0]['dt']),len(wfs[0]['values']))"
   ]
  },
  {
   "cell_type": "code",
   "execution_count": 53,
   "id": "b1882807-142f-4fc0-86c0-67881d377fe0",
   "metadata": {},
   "outputs": [
    {
     "data": {
      "text/plain": [
       "ArrayOfEqualSizedArrays([[15104 15104 15099 ... 15114 15113 15119]\n",
       "                         [15107 15107 15105 ... 15108 15109 15108]\n",
       "                         [15105 15105 15119 ... 15110 15113 15111]\n",
       "                         ...\n",
       "                         [15118 15118 15113 ... 15111 15113 15108]\n",
       "                         [15107 15103 15117 ... 15111 15102 15113]\n",
       "                         [15106 15112 15113 ... 15118 15112 15107]], attrs={'datatype': 'array_of_equalsized_arrays<1,1>{real}'})"
      ]
     },
     "execution_count": 53,
     "metadata": {},
     "output_type": "execute_result"
    }
   ],
   "source": [
    "wfs[0]['values']"
   ]
  },
  {
   "cell_type": "code",
   "execution_count": 54,
   "id": "7242d816-4eca-47bb-b28e-65d8a8816991",
   "metadata": {},
   "outputs": [
    {
     "data": {
      "image/png": "[encoded data removed]",
      "text/plain": [
       "<Figure size 432x288 with 1 Axes>"
      ]
     },
     "metadata": {
      "needs_background": "light"
     },
     "output_type": "display_data"
    }
   ],
   "source": [
    "plt.figure()\n",
    "for i in range(1000):\n",
    "    plt.plot(wfs[0][\"values\"].nda[i])\n",
    "plt.show()"
   ]
  },
  {
   "cell_type": "code",
   "execution_count": 19,
   "id": "95508fc1-2a36-473b-9af8-5227c191d51b",
   "metadata": {},
   "outputs": [
    {
     "name": "stdout",
     "output_type": "stream",
     "text": [
      "['ch002', 'ch003', 'ch005', 'ch006', 'ch007', 'ch008', 'ch009', 'ch011', 'ch012', 'ch013', 'ch014', 'ch015', 'ch016', 'ch023', 'ch025', 'ch026', 'ch027', 'ch028', 'ch029', 'ch037', 'ch038', 'ch039', 'ch040', 'ch042', 'ch043', 'ch046', 'ch048', 'ch051', 'ch052', 'ch053', 'ch054', 'ch055', 'ch056', 'ch057', 'ch058', 'ch059', 'ch060', 'ch061', 'ch062', 'ch063', 'ch064', 'ch065', 'ch066', 'ch067', 'ch068', 'ch069', 'ch074', 'ch075', 'ch076', 'ch077', 'ch078', 'ch079', 'ch082', 'ch084', 'ch086', 'ch087', 'ch088', 'ch089', 'ch090', 'ch092', 'ch093', 'ch094', 'ch095', 'ch096', 'ch097', 'ch098', 'ch099', 'ch100', 'ch101', 'ch102', 'ch103']\n"
     ]
    }
   ],
   "source": [
    "hit_phy_channel = lh5.ls(hit_files[0])\n",
    "print(hit_phy_channel)"
   ]
  },
  {
   "cell_type": "code",
   "execution_count": 18,
   "id": "5cff267d-4bb5-4083-a2b6-ec5ef7cf9532",
   "metadata": {},
   "outputs": [
    {
     "name": "stdout",
     "output_type": "stream",
     "text": [
      "Parameters in raw file are :  ['baseline', 'card', 'ch_orca', 'channel', 'crate', 'daqenergy', 'deadtime', 'dr_maxticks', 'dr_start_pps', 'dr_start_ticks', 'dr_stop_pps', 'dr_stop_ticks', 'eventnumber', 'fcid', 'numtraces', 'packet_id', 'runtime', 'timestamp', 'to_abs_mu_usec', 'to_dt_mu_usec', 'to_master_sec', 'to_mu_sec', 'to_mu_usec', 'to_start_sec', 'to_start_usec', 'tracelist', 'ts_maxticks', 'ts_pps', 'ts_ticks', 'waveform'] \n",
      "\n",
      "Parameters in dsp file are :  ['A_max', 'QDrift', 'baseline', 'bl_intercept', 'bl_mean', 'bl_slope', 'bl_std', 'cuspEftp', 'cuspEmax', 'dt_eff', 'dt_eff_invert', 'pz_mean', 'pz_slope', 'pz_std', 'sat_hi', 'sat_lo', 't_discharge', 't_saturated', 'timestamp', 'tp_01', 'tp_0_atrap', 'tp_0_est', 'tp_0_invert', 'tp_10', 'tp_100', 'tp_100_invert', 'tp_10_invert', 'tp_20', 'tp_20_invert', 'tp_50', 'tp_50_invert', 'tp_80', 'tp_80_invert', 'tp_90', 'tp_90_invert', 'tp_95', 'tp_99', 'tp_99_invert', 'tp_aoe_max', 'tp_aoe_samp', 'tp_max', 'tp_min', 'trapEftp', 'trapEmax', 'trapTmax', 'trapTmax_invert', 'wf_max', 'wf_min', 'zacEftp', 'zacEmax'] \n",
      "\n",
      "Parameters in hit file are :  ['AoE_Classifier', 'AoE_Corrected', 'AoE_Double_Sided_Cut', 'AoE_Low_Cut', 'Quality_cuts', 'cuspEmax_ctc_cal', 'trapEmax_ctc_cal', 'trapTmax_cal', 'zacEmax_ctc_cal'] \n",
      "\n",
      "Parameters in tcm file are :  ['hardware_tcm'] \n",
      "\n"
     ]
    }
   ],
   "source": [
    "#### listing the parameters saved in raw file\n",
    "ls_raw=lh5.ls(raw_files[0],'ch003/raw/')\n",
    "ls_dsp=lh5.ls(dsp_files[0],'ch003/dsp/')\n",
    "ls_hit=lh5.ls(hit_files[0],'ch003/hit/')\n",
    "ls_tcm=lh5.ls(tcm_files[0])\n",
    "raw_params= [x[10:] for x in ls_raw]\n",
    "dsp_params= [x[10:] for x in ls_dsp]\n",
    "hit_params= [x[10:] for x in ls_hit]\n",
    "tcm_params= [x for x in ls_tcm]\n",
    "print('Parameters in raw file are : ',raw_params,'\\n')\n",
    "print('Parameters in dsp file are : ',dsp_params,'\\n')\n",
    "print('Parameters in hit file are : ',hit_params,'\\n')\n",
    "print('Parameters in tcm file are : ',tcm_params,'\\n')"
   ]
  },
  {
   "cell_type": "code",
   "execution_count": 55,
   "id": "625b8f66-f797-4bfc-bc24-7299b34f6c21",
   "metadata": {},
   "outputs": [
    {
     "name": "stdout",
     "output_type": "stream",
     "text": [
      "Parameters in raw file are :  ['baseline', 'card', 'ch_orca', 'channel', 'crate', 'daqenergy', 'deadtime', 'dr_maxticks', 'dr_start_pps', 'dr_start_ticks', 'dr_stop_pps', 'dr_stop_ticks', 'eventnumber', 'fcid', 'numtraces', 'packet_id', 'runtime', 'timestamp', 'to_abs_mu_usec', 'to_dt_mu_usec', 'to_master_sec', 'to_mu_sec', 'to_mu_usec', 'to_start_sec', 'to_start_usec', 'tracelist', 'ts_maxticks', 'ts_pps', 'ts_ticks', 'waveform'] \n",
      "\n",
      "Parameters in dsp file are :  ['energies', 'timestamp', 'trigger_pos'] \n",
      "\n",
      "Parameters in hit file are :  ['energy_in_pe', 'quality_cut', 'timestamp', 'trigger_pos'] \n",
      "\n",
      "Parameters in tcm file are :  ['hardware_tcm'] \n",
      "\n"
     ]
    }
   ],
   "source": [
    "#### listing the parameters saved in raw file\n",
    "ls_raw=lh5.ls(raw_files[0],'ch103/raw/')\n",
    "ls_dsp=lh5.ls(dsp_files[0],'ch103/dsp/')\n",
    "ls_hit=lh5.ls(hit_files[0],'ch103/hit/')\n",
    "ls_tcm=lh5.ls(tcm_files[0])\n",
    "raw_params= [x[10:] for x in ls_raw]\n",
    "dsp_params= [x[10:] for x in ls_dsp]\n",
    "hit_params= [x[10:] for x in ls_hit]\n",
    "tcm_params= [x for x in ls_tcm]\n",
    "print('Parameters in raw file are : ',raw_params,'\\n')\n",
    "print('Parameters in dsp file are : ',dsp_params,'\\n')\n",
    "print('Parameters in hit file are : ',hit_params,'\\n')\n",
    "print('Parameters in tcm file are : ',tcm_params,'\\n')"
   ]
  },
  {
   "cell_type": "code",
   "execution_count": 20,
   "id": "53d0bae6-25e9-4b7c-bdcd-039bc66d0914",
   "metadata": {},
   "outputs": [],
   "source": [
    "my_params = ['baseline','card','ch_orca','channel','crate','timestamp','daqenergy']\n",
    "info_dict = {}\n",
    "for iCh in hit_phy_channel:\n",
    "    values = lh5.load_nda(raw_files[0],my_params,f'{iCh}/raw/')\n",
    "    info_dict[iCh]=values "
   ]
  },
  {
   "cell_type": "code",
   "execution_count": 21,
   "id": "a7a809a5-0b10-4e5a-8e7b-ebbc1bca1109",
   "metadata": {},
   "outputs": [],
   "source": [
    "my_raw_params = ['fcid','card','ch_orca','channel','crate']\n",
    "raw_info_dict = {}\n",
    "for iCh in hit_phy_channel:\n",
    "    raw_values = lh5.load_nda(raw_files[0],my_raw_params,f'{iCh}/raw/')\n",
    "    raw_info_dict[iCh]=raw_values "
   ]
  },
  {
   "cell_type": "code",
   "execution_count": 22,
   "id": "f78d0e70-93ca-4ae1-ad8e-631ba1e9ad5f",
   "metadata": {},
   "outputs": [],
   "source": [
    "# raw_info_dict"
   ]
  },
  {
   "cell_type": "code",
   "execution_count": 23,
   "id": "d16e1755-ef96-4233-b14b-4b1a1cae79ec",
   "metadata": {},
   "outputs": [],
   "source": [
    "# raw_info_table=pd.DataFrame.from_dict({(i,j):raw_info_dict[i][j][0] for i in info_dict.keys() for j in raw_info_dict[i].keys()}, orient='index')\n",
    "# print(raw_info_table.to_string())"
   ]
  },
  {
   "cell_type": "code",
   "execution_count": 24,
   "id": "11ef33c7-ae4b-4d4d-a65d-79a350e6fff8",
   "metadata": {},
   "outputs": [
    {
     "name": "stdout",
     "output_type": "stream",
     "text": [
      "       card  fcid  channel  crate\n",
      "ch002     1     1        2      0\n",
      "ch003     1     1        3      0\n",
      "ch005     1     1        5      0\n",
      "ch006     1     1        6      0\n",
      "ch007     1     1        7      0\n",
      "ch008     2     1        8      0\n",
      "ch009     2     1        9      0\n",
      "ch011     2     1       11      0\n",
      "ch012     2     1       12      0\n",
      "ch013     2     1       13      0\n",
      "ch014     3     1       14      0\n",
      "ch015     3     1       15      0\n",
      "ch016     4     1       16      0\n",
      "ch023     5     1       23      0\n",
      "ch025     6     1       25      0\n",
      "ch026     6     1       26      0\n",
      "ch027     6     1       27      0\n",
      "ch028     6     1       28      0\n",
      "ch029     6     1       29      0\n",
      "ch037     8     1       37      0\n",
      "ch038     8     1       38      0\n",
      "ch039     8     1       39      0\n",
      "ch040     8     1       40      0\n",
      "ch042     8     1       42      0\n",
      "ch043     9     1       43      0\n",
      "ch046     1     1       46      2\n",
      "ch048     1     1       48      2\n",
      "ch051     2     1       51      2\n",
      "ch052     2     1       52      2\n",
      "ch053     2     1       53      2\n",
      "ch054     2     1       54      2\n",
      "ch055     2     1       55      2\n",
      "ch056     3     1       56      2\n",
      "ch057     3     1       57      2\n",
      "ch058     3     1       58      2\n",
      "ch059     3     1       59      2\n",
      "ch060     3     1       60      2\n",
      "ch061     3     1       61      2\n",
      "ch062     4     1       62      2\n",
      "ch063     4     1       63      2\n",
      "ch064     4     1       64      2\n",
      "ch065     4     1       65      2\n",
      "ch066     4     1       66      2\n",
      "ch067     4     1       67      2\n",
      "ch068     5     1       68      2\n",
      "ch069     5     1       69      2\n",
      "ch074     6     1       74      2\n",
      "ch075     6     1       75      2\n",
      "ch076     6     1       76      2\n",
      "ch077     6     1       77      2\n",
      "ch078     6     1       78      2\n",
      "ch079     6     1       79      2\n",
      "ch082     7     1       82      2\n",
      "ch084     7     1       84      2\n",
      "ch086     8     1       86      2\n",
      "ch087     8     1       87      2\n",
      "ch088     8     1       88      2\n",
      "ch089     8     1       89      2\n",
      "ch090     8     1       90      2\n",
      "ch092     9     1       92      2\n",
      "ch093     9     1       93      2\n",
      "ch094     9     1       94      2\n",
      "ch095     9     1       95      2\n",
      "ch096     9     1       96      2\n",
      "ch097     9     1       97      2\n",
      "ch098    10     1       98      2\n",
      "ch099    10     1       99      2\n",
      "ch100    10     1      100      2\n",
      "ch101    10     1      101      2\n",
      "ch102    10     1      102      2\n",
      "ch103    10     1      103      2\n"
     ]
    }
   ],
   "source": [
    "raw_info_table=pd.DataFrame.from_dict({k:[v['card'][0],v['fcid'][0],v['channel'][0],v['crate'][0]] for k,v in raw_info_dict.items()}, \n",
    "                                      orient='index',columns=['card','fcid','channel','crate'])\n",
    "print(raw_info_table.to_string())"
   ]
  },
  {
   "cell_type": "code",
   "execution_count": 25,
   "id": "aa604f53-5f4b-42d9-90f4-575b4ca5dd24",
   "metadata": {},
   "outputs": [
    {
     "data": {
      "text/plain": [
       "{'baseline': array([15109, 15110, 15110, ..., 15109, 15111, 15110], dtype=uint16),\n",
       " 'card': array([8, 8, 8, ..., 8, 8, 8], dtype=uint8),\n",
       " 'ch_orca': array([1, 1, 1, ..., 1, 1, 1], dtype=uint8),\n",
       " 'channel': array([87, 87, 87, ..., 87, 87, 87], dtype=uint32),\n",
       " 'crate': array([2, 2, 2, ..., 2, 2, 2], dtype=uint8),\n",
       " 'timestamp': array([1.6640132e+09, 1.6640132e+09, 1.6640132e+09, ..., 1.6640168e+09,\n",
       "        1.6640168e+09, 1.6640168e+09]),\n",
       " 'daqenergy': array([0, 0, 0, ..., 0, 0, 0], dtype=uint16)}"
      ]
     },
     "execution_count": 25,
     "metadata": {},
     "output_type": "execute_result"
    }
   ],
   "source": [
    "values = lh5.load_nda(raw_files[10],my_params,'ch087/raw/')\n",
    "values"
   ]
  },
  {
   "cell_type": "code",
   "execution_count": 27,
   "id": "4853b9be-7751-47e3-97b7-ac7775d21e6d",
   "metadata": {},
   "outputs": [
    {
     "name": "stdout",
     "output_type": "stream",
     "text": [
      "Number of files in this run:  215\n",
      "Number of waveforms saved in this file 3496\n"
     ]
    }
   ],
   "source": [
    "print(\"Number of files in this run: \",len(raw_files))\n",
    "print(\"Number of waveforms saved in this file\",len(values[\"baseline\"]))"
   ]
  },
  {
   "cell_type": "code",
   "execution_count": 29,
   "id": "4ed7b7dd-33f9-46ff-acf0-4acccc0c513f",
   "metadata": {},
   "outputs": [
    {
     "data": {
      "image/png": "[encoded data removed]",
      "text/plain": [
       "<Figure size 432x288 with 1 Axes>"
      ]
     },
     "metadata": {
      "needs_background": "light"
     },
     "output_type": "display_data"
    }
   ],
   "source": [
    "plt.hist(values['daqenergy'])\n",
    "plt.show()"
   ]
  },
  {
   "cell_type": "code",
   "execution_count": 30,
   "id": "47ead5b0-0c77-4ce2-9c7d-fdedae31a768",
   "metadata": {},
   "outputs": [
    {
     "data": {
      "text/plain": [
       "3596.772943019867"
      ]
     },
     "execution_count": 30,
     "metadata": {},
     "output_type": "execute_result"
    }
   ],
   "source": [
    "values[\"timestamp\"][-1] - values[\"timestamp\"][0]"
   ]
  },
  {
   "cell_type": "code",
   "execution_count": 31,
   "id": "bb72fb1d-9aef-4bd4-ae4f-c2ac3684c5c3",
   "metadata": {},
   "outputs": [],
   "source": [
    "from pygama.vis.waveform_browser import WaveformBrowser"
   ]
  },
  {
   "cell_type": "code",
   "execution_count": 32,
   "id": "d51e891e-59c6-47e3-98d0-8ceb28d81003",
   "metadata": {},
   "outputs": [
    {
     "data": {
      "image/png": "[encoded data removed]",
      "text/plain": [
       "<Figure size 432x288 with 1 Axes>"
      ]
     },
     "metadata": {
      "needs_background": "light"
     },
     "output_type": "display_data"
    }
   ],
   "source": [
    "browser = WaveformBrowser(raw_files[10],'ch087/raw/',x_unit='us',styles={'color':list(mcolors.TABLEAU_COLORS)})\n",
    "browser.draw_entry([1,2,3,4,5,6,7,8,9,10])"
   ]
  },
  {
   "cell_type": "code",
   "execution_count": 35,
   "id": "76ce9fe8-75c1-4f8d-b957-82fad5548c07",
   "metadata": {},
   "outputs": [],
   "source": [
    "event_num = sto.read_object(\"ch001/raw/eventnumber\", raw_files[0])"
   ]
  },
  {
   "cell_type": "code",
   "execution_count": 36,
   "id": "02006bd8-c834-4a89-a386-5ed54e07cc77",
   "metadata": {},
   "outputs": [
    {
     "data": {
      "text/plain": [
       "tuple"
      ]
     },
     "execution_count": 36,
     "metadata": {},
     "output_type": "execute_result"
    }
   ],
   "source": [
    "type(event_num)"
   ]
  },
  {
   "cell_type": "code",
   "execution_count": 37,
   "id": "a7c05a95-c38b-4b10-879a-56e5a5b36309",
   "metadata": {},
   "outputs": [
    {
     "data": {
      "text/plain": [
       "(Array([   0    1    2 ... 3077 3078 3079], attrs={'datatype': 'array<1>{real}'}),\n",
       " 3080)"
      ]
     },
     "execution_count": 37,
     "metadata": {},
     "output_type": "execute_result"
    }
   ],
   "source": [
    "event_num"
   ]
  },
  {
   "cell_type": "code",
   "execution_count": 57,
   "id": "b68a87ac-7294-46da-8d2c-d40a09ab3626",
   "metadata": {},
   "outputs": [],
   "source": [
    "sto=lh5.LH5Store()\n",
    "sipm_attr = sto.read_object(\"ch087/hit\", hit_files[0])"
   ]
  },
  {
   "cell_type": "code",
   "execution_count": 58,
   "id": "0380e4a5-fdf8-497f-a1d6-49c7411786d0",
   "metadata": {},
   "outputs": [
    {
     "data": {
      "text/plain": [
       "(Table(dict={'energy_in_pe': ArrayOfEqualSizedArrays([[0.96128695 nan ... nan nan] [0.14697511 nan ... nan nan] ... [1.25615081 nan ... nan nan] [1.3738722 2.1396936 ... nan nan]], attrs={'datatype': 'array_of_equalsized_arrays<2>{real}'}), 'quality_cut': ArrayOfEqualSizedArrays([[ True False ... False False] [False False ... False False] ... [ True False ... False False] [ True True ... False False]], attrs={'datatype': 'array_of_equalsized_arrays<2>{bool}'}), 'trigger_pos': ArrayOfEqualSizedArrays([[1575. nan ... nan nan] [ 619. nan ... nan nan] ... [3151. nan ... nan nan] [2928. 2948. ... nan nan]], attrs={'datatype': 'array_of_equalsized_arrays<2>{real}'}), 'timestamp': Array([1.66397717e+09 1.66397718e+09 ... 1.66398077e+09 1.66398077e+09], attrs={'datatype': 'array<1>{real}', 'units': 's'})}, attrs={'datatype': 'table{energy_in_pe,quality_cut,trigger_pos,timestamp}'}),\n",
       " 3080)"
      ]
     },
     "execution_count": 58,
     "metadata": {},
     "output_type": "execute_result"
    }
   ],
   "source": [
    "sipm_attr"
   ]
  },
  {
   "cell_type": "code",
   "execution_count": 40,
   "id": "fa8981db-ef79-4700-8724-b464a89083df",
   "metadata": {},
   "outputs": [
    {
     "data": {
      "text/plain": [
       "tuple"
      ]
     },
     "execution_count": 40,
     "metadata": {},
     "output_type": "execute_result"
    }
   ],
   "source": [
    "type(sipm_attr)"
   ]
  },
  {
   "cell_type": "code",
   "execution_count": 41,
   "id": "692cc32b-5225-4d68-95df-a27772f7b58d",
   "metadata": {},
   "outputs": [
    {
     "data": {
      "text/plain": [
       "pygama.lgdo.table.Table"
      ]
     },
     "execution_count": 41,
     "metadata": {},
     "output_type": "execute_result"
    }
   ],
   "source": [
    "type(sipm_attr[0])"
   ]
  },
  {
   "cell_type": "code",
   "execution_count": 56,
   "id": "fba331b9-f78d-4609-bf6d-6a8741960b42",
   "metadata": {},
   "outputs": [
    {
     "ename": "NameError",
     "evalue": "name 'sipm_attr' is not defined",
     "output_type": "error",
     "traceback": [
      "\u001b[0;31m---------------------------------------------------------------------------\u001b[0m",
      "\u001b[0;31mNameError\u001b[0m                                 Traceback (most recent call last)",
      "\u001b[0;32m/tmp/ipykernel_595833/1235838648.py\u001b[0m in \u001b[0;36m<module>\u001b[0;34m\u001b[0m\n\u001b[0;32m----> 1\u001b[0;31m \u001b[0msipm_attr\u001b[0m\u001b[0;34m[\u001b[0m\u001b[0;36m0\u001b[0m\u001b[0;34m]\u001b[0m\u001b[0;34m[\u001b[0m\u001b[0;34m'energy_in_pe'\u001b[0m\u001b[0;34m]\u001b[0m\u001b[0;34m.\u001b[0m\u001b[0mnda\u001b[0m\u001b[0;34m[\u001b[0m\u001b[0;36m10\u001b[0m\u001b[0;34m]\u001b[0m\u001b[0;34m\u001b[0m\u001b[0;34m\u001b[0m\u001b[0m\n\u001b[0m",
      "\u001b[0;31mNameError\u001b[0m: name 'sipm_attr' is not defined"
     ]
    }
   ],
   "source": [
    "sipm_attr[0]['energy_in_pe'].nda[10]"
   ]
  },
  {
   "cell_type": "code",
   "execution_count": 115,
   "id": "d04a2159-f60c-4119-83b9-8db8ed565a22",
   "metadata": {},
   "outputs": [
    {
     "data": {
      "image/png": "[encoded data removed]",
      "text/plain": [
       "<Figure size 432x288 with 1 Axes>"
      ]
     },
     "metadata": {
      "needs_background": "light"
     },
     "output_type": "display_data"
    }
   ],
   "source": [
    "plt.figure()\n",
    "for i in range(3080):\n",
    "    plt.plot(sipm_attr[0][\"energy_in_pe\"].nda[i])\n",
    "plt.show()"
   ]
  },
  {
   "cell_type": "code",
   "execution_count": 119,
   "id": "a2112d75-9e0b-4ec0-b65e-2aca39ce4ad0",
   "metadata": {},
   "outputs": [
    {
     "name": "stdout",
     "output_type": "stream",
     "text": [
      "1543 135.84660265624998\n",
      "1886 149.5784740625\n",
      "2361 36.33661191833495\n"
     ]
    }
   ],
   "source": [
    "for i in range(3080):\n",
    "    pe = sipm_attr[0]['energy_in_pe'].nda[i][0]\n",
    "    if pe>30:\n",
    "        print(i, pe)\n",
    "    "
   ]
  },
  {
   "cell_type": "code",
   "execution_count": 117,
   "id": "4540bf6d-239c-45b4-934d-e122f268e2ce",
   "metadata": {},
   "outputs": [
    {
     "data": {
      "text/plain": [
       "(WaveformTable(dict={'t0': Array([0. 0. ... 0. 0.], attrs={'datatype': 'array<1>{real}', 'units': 'ns'}), 'dt': Array([16. 16. ... 16. 16.], attrs={'datatype': 'array<1>{real}', 'units': 'ns'}), 'values': ArrayOfEqualSizedArrays([[15104 15104 ... 15113 15119] [15107 15107 ... 15109 15108] ... [15107 15103 ... 15102 15113] [15106 15112 ... 15112 15107]], attrs={'datatype': 'array_of_equalsized_arrays<1,1>{real}'})}, attrs={'datatype': 'table{t0,dt,values}'}),\n",
       " 3080)"
      ]
     },
     "execution_count": 117,
     "metadata": {},
     "output_type": "execute_result"
    }
   ],
   "source": [
    "wfs"
   ]
  },
  {
   "cell_type": "code",
   "execution_count": 122,
   "id": "dbfcd70c-fc71-4061-8975-2cf28c6f5be3",
   "metadata": {},
   "outputs": [
    {
     "data": {
      "image/png": "[encoded data removed]",
      "text/plain": [
       "<Figure size 432x288 with 1 Axes>"
      ]
     },
     "metadata": {
      "needs_background": "light"
     },
     "output_type": "display_data"
    }
   ],
   "source": [
    "maxwf=(1543,1886,2361)\n",
    "for i in maxwf:\n",
    "    plt.plot(wfs[0]['values'].nda[i], label=f\"event number {i}\")\n",
    "    plt.legend()\n",
    "plt.show()"
   ]
  },
  {
   "cell_type": "code",
   "execution_count": 144,
   "id": "bd517ce5-6f85-4676-aa0c-c47536c68bbc",
   "metadata": {},
   "outputs": [
    {
     "data": {
      "image/png": "[encoded data removed]",
      "text/plain": [
       "<Figure size 864x504 with 1 Axes>"
      ]
     },
     "metadata": {
      "needs_background": "light"
     },
     "output_type": "display_data"
    }
   ],
   "source": [
    "sipm_data = lh5.load_nda(hit_files[0],['energy_in_pe','trigger_pos','timestamp','quality_cut'],'ch087/hit')\n",
    "fig,ax = plt.subplots(figsize=(12,7))\n",
    "bins = np.linspace(0,20,20)\n",
    "npe = sipm_data[\"energy_in_pe\"]\n",
    "npe_withou_nan = npe[~np.isnan(npe)]\n",
    "ax.hist(npe_withou_nan, bins=bins, histtype='step', label='number of PE')\n",
    "ax.legend()\n",
    "ax.set_yscale(\"log\")\n",
    "ax.set_xticks(np.arange(0,21))\n",
    "ax.grid()\n",
    "plt.show()"
   ]
  },
  {
   "cell_type": "code",
   "execution_count": 125,
   "id": "c76bd498-4a99-4eca-b0fb-148d5b2d14bc",
   "metadata": {},
   "outputs": [
    {
     "data": {
      "text/plain": [
       "array([[0.96128695,        nan,        nan, ...,        nan,        nan,\n",
       "               nan],\n",
       "       [0.14697511,        nan,        nan, ...,        nan,        nan,\n",
       "               nan],\n",
       "       [0.15770448,        nan,        nan, ...,        nan,        nan,\n",
       "               nan],\n",
       "       ...,\n",
       "       [0.9493798 , 1.66712734, 0.99618972, ...,        nan,        nan,\n",
       "               nan],\n",
       "       [1.25615081,        nan,        nan, ...,        nan,        nan,\n",
       "               nan],\n",
       "       [1.3738722 , 2.1396936 ,        nan, ...,        nan,        nan,\n",
       "               nan]])"
      ]
     },
     "execution_count": 125,
     "metadata": {},
     "output_type": "execute_result"
    }
   ],
   "source": [
    "npe"
   ]
  },
  {
   "cell_type": "code",
   "execution_count": 86,
   "id": "1b5e5b5f-642b-49f5-a068-25acf32321f2",
   "metadata": {},
   "outputs": [
    {
     "data": {
      "text/plain": [
       "(array([1., 0., 0., 0., 0., 2., 1., 0., 0., 1.]),\n",
       " array([0.15756084, 0.30851749, 0.45947414, ..., 1.36521404, 1.51617069,\n",
       "        1.66712734]),\n",
       " <BarContainer object of 10 artists>)"
      ]
     },
     "execution_count": 86,
     "metadata": {},
     "output_type": "execute_result"
    },
    {
     "data": {
      "image/png": "[encoded data removed]",
      "text/plain": [
       "<Figure size 432x288 with 1 Axes>"
      ]
     },
     "metadata": {
      "needs_background": "light"
     },
     "output_type": "display_data"
    }
   ],
   "source": [
    "plt.hist(npe[3077])"
   ]
  },
  {
   "cell_type": "code",
   "execution_count": 138,
   "id": "141455e6-5980-41d8-b574-8a8535e2621d",
   "metadata": {},
   "outputs": [
    {
     "data": {
      "text/plain": [
       "Array([1.66397717e+09 1.66397718e+09 1.66397718e+09 ... 1.66398077e+09\n",
       "       1.66398077e+09 1.66398077e+09], attrs={'datatype': 'array<1>{real}', 'units': 's'})"
      ]
     },
     "execution_count": 138,
     "metadata": {},
     "output_type": "execute_result"
    }
   ],
   "source": [
    "sipm_attr[0][\"timestamp\"]"
   ]
  },
  {
   "cell_type": "code",
   "execution_count": 143,
   "id": "edaa24b0-98c7-41dd-866d-a06f0268f300",
   "metadata": {},
   "outputs": [
    {
     "data": {
      "text/plain": [
       "ArrayOfEqualSizedArrays([[1575.   nan   nan ...   nan   nan   nan]\n",
       "                         [ 619.   nan   nan ...   nan   nan   nan]\n",
       "                         [ 584.   nan   nan ...   nan   nan   nan]\n",
       "                         ...\n",
       "                         [3009. 3075. 3145. ...   nan   nan   nan]\n",
       "                         [3151.   nan   nan ...   nan   nan   nan]\n",
       "                         [2928. 2948.   nan ...   nan   nan   nan]], attrs={'datatype': 'array_of_equalsized_arrays<2>{real}'})"
      ]
     },
     "execution_count": 143,
     "metadata": {},
     "output_type": "execute_result"
    }
   ],
   "source": [
    "sipm_attr[0][\"trigger_pos\"]"
   ]
  },
  {
   "cell_type": "code",
   "execution_count": 152,
   "id": "bc1d0df1-6776-420a-89f3-6dc7e2617511",
   "metadata": {},
   "outputs": [
    {
     "data": {
      "text/plain": [
       "(3080, 100)"
      ]
     },
     "execution_count": 152,
     "metadata": {},
     "output_type": "execute_result"
    }
   ],
   "source": [
    "trig_pos = sipm_data[\"trigger_pos\"]\n",
    "# trig_pos = trig_pos[~np.isnan(trig_pos)]\n",
    "trig_pos.shape"
   ]
  },
  {
   "cell_type": "code",
   "execution_count": 150,
   "id": "cd99aca0-ba75-40c3-9c9f-4d71259d6f32",
   "metadata": {},
   "outputs": [
    {
     "data": {
      "text/plain": [
       "(array([312., 260., 287., 441., 261., 292., 289., 265., 223., 217.]),\n",
       " array([   0. ,  817.9, 1635.8, ..., 6543.2, 7361.1, 8179. ], dtype=float32),\n",
       " <BarContainer object of 10 artists>)"
      ]
     },
     "execution_count": 150,
     "metadata": {},
     "output_type": "execute_result"
    },
    {
     "data": {
      "image/png": "[encoded data removed]",
      "text/plain": [
       "<Figure size 432x288 with 1 Axes>"
      ]
     },
     "metadata": {
      "needs_background": "light"
     },
     "output_type": "display_data"
    }
   ],
   "source": [
    "plt.hist(trig_pos)"
   ]
  },
  {
   "cell_type": "code",
   "execution_count": 156,
   "id": "af76f6ad-c130-4e6a-b29d-9e1e19048aa9",
   "metadata": {},
   "outputs": [
    {
     "data": {
      "image/png": "[encoded data removed]",
      "text/plain": [
       "<Figure size 432x288 with 1 Axes>"
      ]
     },
     "metadata": {
      "needs_background": "light"
     },
     "output_type": "display_data"
    }
   ],
   "source": [
    "for i in range(3080):\n",
    "    plt.plot(sipm_attr[0][\"trigger_pos\"].nda[i])"
   ]
  },
  {
   "cell_type": "code",
   "execution_count": null,
   "id": "c6df5fec-cebd-407b-b034-41272d4cc531",
   "metadata": {},
   "outputs": [],
   "source": []
  }
 ],
 "metadata": {
  "jupytext": {
   "formats": "ipynb,py:percent"
  },
  "kernelspec": {
   "display_name": "Python 3 (ipykernel)",
   "language": "python",
   "name": "python3"
  },
  "language_info": {
   "codemirror_mode": {
    "name": "ipython",
    "version": 3
   },
   "file_extension": ".py",
   "mimetype": "text/x-python",
   "name": "python",
   "nbconvert_exporter": "python",
   "pygments_lexer": "ipython3",
   "version": "3.9.7"
  }
 },
 "nbformat": 4,
 "nbformat_minor": 5
}
